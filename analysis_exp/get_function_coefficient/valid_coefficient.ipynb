{
 "cells": [
  {
   "cell_type": "code",
   "execution_count": null,
   "metadata": {},
   "outputs": [],
   "source": [
    "import numpy as np\n",
    "from collections import defaultdict\n",
    "import math\n",
    "from functools import reduce\n",
    "import json"
   ]
  },
  {
   "cell_type": "markdown",
   "metadata": {},
   "source": [
    "# 优化的数据处理"
   ]
  },
  {
   "cell_type": "code",
   "execution_count": null,
   "metadata": {},
   "outputs": [],
   "source": [
    "def model_coefficients(x, coeffs):\n",
    "    \"\"\"\n",
    "    计算多项式的输出\n",
    "    \"\"\"\n",
    "    a, b, c, d, e, f, g, h, i = coeffs\n",
    "    x1, x2, x3 = x\n",
    "    return a*x1**2 + b*x2**2 + c*x3**2 + d*x1*x2 + e*x1*x3 + f*x2*x3 + g*x1 + h*x2 + i*x3\n",
    "\n",
    "def validate(coeffs, best, others):\n",
    "    \"\"\"\n",
    "    验证是否所有other的y值都小于best的y值\n",
    "    \"\"\"\n",
    "    y_best = model_coefficients(best, coeffs)\n",
    "    y_others = np.array([model_coefficients(other, coeffs) for other in others])\n",
    "    for index,other in enumerate(y_others):\n",
    "        if y_best < other:\n",
    "            print(others[index])\n",
    "            print('best:{}\\tother:{}'.format(y_best, other))\n",
    "    # 检查是否所有y_others都小于y_best\n",
    "    valid = np.all(y_others <= y_best)\n",
    "    \n",
    "    return valid, y_best, y_others\n",
    "\n",
    "def enhanced_scale(arr, scale_min=1, scale_max=10):\n",
    "    \"\"\"\n",
    "    改进的归一化函数：每个维度独立标准化，再缩放到1-10之间\n",
    "    \"\"\"\n",
    "    arr = np.array(arr)\n",
    "    scaled = np.zeros_like(arr)\n",
    "    \n",
    "    for i in range(arr.shape[1]):\n",
    "        col = arr[:, i]\n",
    "        # 标准化：均值为0，方差为1\n",
    "        col_standardized = (col - np.mean(col)) / np.std(col)\n",
    "        # 缩放到1-10\n",
    "        scaled[:, i] = scale_min + (col_standardized - np.min(col_standardized)) * (scale_max - scale_min) / (np.max(col_standardized) - np.min(col_standardized))\n",
    "    \n",
    "    return np.round(scaled).astype(int)  # 取整保证整数系数"
   ]
  },
  {
   "cell_type": "code",
   "execution_count": null,
   "metadata": {},
   "outputs": [],
   "source": [
    "with open('../count_datas/coefficients.json','r') as f:\n",
    "    xishu = json.load(f)\n",
    "xishu"
   ]
  },
  {
   "cell_type": "code",
   "execution_count": null,
   "metadata": {},
   "outputs": [],
   "source": [
    "res = {}\n",
    "with open('../count_datas/f1_coefficient_valid.json', 'r') as f:\n",
    "    tmp_datas = json.load(f)\n",
    "res['f1'] = tmp_datas"
   ]
  },
  {
   "cell_type": "code",
   "execution_count": null,
   "metadata": {},
   "outputs": [],
   "source": [
    "for key in xishu.keys():\n",
    "    print(key)\n",
    "    optimal_coeffs = xishu[key]\n",
    "    print('optimal_coeffs:{}'.format(optimal_coeffs))\n",
    "    now_res = res['f1'][key]\n",
    "    best_str = now_res['best_str']\n",
    "    print('best_str:{}'.format(best_str))\n",
    "    other_str = now_res['other_str']\n",
    "    best = best_str.split('\\t')\n",
    "    best = [float(item) for item in best]\n",
    "    others = []\n",
    "    for item in other_str.split('\\n'):\n",
    "        if item == '':\n",
    "            continue\n",
    "        tmp_list = item.split('\\t')\n",
    "        tmp_list = [float(_) for _ in tmp_list]\n",
    "        others.append(tmp_list)\n",
    "    \n",
    "    # 删除best那组数据\n",
    "    others = [other for other in others if not np.allclose(other, best)]\n",
    "    # 合并best和others\n",
    "    all_solutions = [best] + others\n",
    "\n",
    "    \n",
    "    # 归一化处理所有数据\n",
    "    processed_solutions = enhanced_scale(all_solutions, scale_min=1, scale_max=10)\n",
    "\n",
    "    processed_best = processed_solutions[0]\n",
    "    processed_others = processed_solutions[1:]\n",
    "\n",
    "\n",
    "\n",
    "    print(processed_best)\n",
    "    print(\"Optimal coefficients:\", optimal_coeffs)\n",
    "\n",
    "    # 验证是否所有other的y值都小于best的y值\n",
    "    valid, y_best, y_others = validate(optimal_coeffs, processed_best, processed_others)\n",
    "\n",
    "    # 输出验证结果\n",
    "    if valid:\n",
    "        print(\"验证成功！所有other的y值都小于best的y值。\")\n",
    "    else:\n",
    "        print(\"验证失败！以上y值不符合要求\\n\\n\")\n",
    "        # print(\"y_best:\", y_best)\n",
    "        # print(\"y_others:\", y_others)\n",
    "    \n"
   ]
  },
  {
   "cell_type": "code",
   "execution_count": null,
   "metadata": {},
   "outputs": [],
   "source": [
    "for key in xishu.keys():\n",
    "\n",
    "    print(key)\n",
    "    optimal_coeffs = xishu[key]\n",
    "    print('optimal_coeffs:{}'.format(optimal_coeffs))\n",
    "    now_res = res['f1'][key]\n",
    "    valid_best_str = now_res['best_str']\n",
    "    valid_other_str = now_res['other_str']\n",
    "    \n",
    "    best = valid_best_str.split('\\t')\n",
    "    best = [float(item) for item in best]\n",
    "    others = []\n",
    "    for item in valid_other_str.split('\\n'):\n",
    "        if item == '':\n",
    "            continue\n",
    "        tmp_list = item.split('\\t')\n",
    "        tmp_list = [float(_) for _ in tmp_list]\n",
    "        others.append(tmp_list)\n",
    "    \n",
    "    # 删除best那组数据\n",
    "    # others = [other for other in others if not np.allclose(other, best)]\n",
    "    # 合并best和others\n",
    "    all_solutions = [best] + others\n",
    "\n",
    "    \n",
    "    # 归一化处理所有数据\n",
    "    processed_solutions = enhanced_scale(all_solutions, scale_min=1, scale_max=10)\n",
    "\n",
    "    processed_best = processed_solutions[0]\n",
    "    processed_others = processed_solutions[1:]\n",
    "\n",
    "    \n",
    "    s = ''\n",
    "    for other,processed_other in zip(others, processed_others):\n",
    "        s += '{}\\t{}\\t{}\\t{}\\t{}\\t{}\\t{}'.format(other[0], other[1], other[2], processed_other[0], processed_other[1], processed_other[2],model_coefficients(processed_other, optimal_coeffs))\n",
    "        # s += '{}\\t{}\\t{}\\t{}\\t{}\\t{}\\t{}\\t{}\\t{}\\t{}\\t{}\\t{}\\t{}\\t{}\\t{}\\t{}'.format(other[0], other[1], other[2], processed_other[0], processed_other[1], processed_other[2], optimal_coeffs[0], optimal_coeffs[1], optimal_coeffs[2], optimal_coeffs[3], optimal_coeffs[4], optimal_coeffs[5], optimal_coeffs[6], optimal_coeffs[7], optimal_coeffs[8],model_coefficients(processed_other, optimal_coeffs))\n",
    "        s += '\\n'\n",
    "\n",
    "    print(key)\n",
    "    print(s)\n"
   ]
  },
  {
   "cell_type": "code",
   "execution_count": null,
   "metadata": {},
   "outputs": [],
   "source": [
    "processed_other[0]"
   ]
  }
 ],
 "metadata": {
  "kernelspec": {
   "display_name": "llama_factory",
   "language": "python",
   "name": "python3"
  },
  "language_info": {
   "codemirror_mode": {
    "name": "ipython",
    "version": 3
   },
   "file_extension": ".py",
   "mimetype": "text/x-python",
   "name": "python",
   "nbconvert_exporter": "python",
   "pygments_lexer": "ipython3",
   "version": "3.10.13"
  },
  "orig_nbformat": 4
 },
 "nbformat": 4,
 "nbformat_minor": 2
}
