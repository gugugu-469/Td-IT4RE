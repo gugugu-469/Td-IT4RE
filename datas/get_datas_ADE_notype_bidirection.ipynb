{
 "cells": [
  {
   "cell_type": "code",
   "execution_count": 1,
   "metadata": {},
   "outputs": [],
   "source": [
    "import os\n",
    "import json\n",
    "import jsonlines\n",
    "from collections import defaultdict\n",
    "import time"
   ]
  },
  {
   "cell_type": "code",
   "execution_count": 2,
   "metadata": {},
   "outputs": [],
   "source": [
    "all_start = time.time()"
   ]
  },
  {
   "cell_type": "code",
   "execution_count": 3,
   "metadata": {},
   "outputs": [],
   "source": [
    "# CMeIE\n",
    "# A. c→(h,r)\n",
    "out_name = 'c_to_hr'\n",
    "inp_prompt = '''Currently, you are a senior expert in information extraction. \n",
    "Your task is first to extract possible subjects from the given text, and then, based on these subjects, identify possible relations from the given relation list. The given relation list is: {relation_list}.\n",
    "The output format for the task is (subject||relation).\n",
    "The given text:\"{text}\"\n",
    "'''\n",
    "oup_prompt = '{answer_text}'"
   ]
  },
  {
   "cell_type": "code",
   "execution_count": 4,
   "metadata": {},
   "outputs": [],
   "source": [
    "data_file_list = [\n",
    "    'train.json',\n",
    "    'dev.json',\n",
    "    'test.json',\n",
    "]\n",
    "out_file_list = [\n",
    "    'train.json',\n",
    "    'dev.json',\n",
    "    'test.json'\n",
    "]"
   ]
  },
  {
   "cell_type": "code",
   "execution_count": 5,
   "metadata": {},
   "outputs": [],
   "source": [
    "read_dir = './ori/ADE/'\n",
    "out_dir = './bidirection/ADE'\n",
    "out_dir = os.path.join(out_dir,out_name)\n",
    "if not os.path.exists(out_dir):\n",
    "    os.makedirs(out_dir)\n",
    "with jsonlines.open(os.path.join(read_dir,'65_schemas.json'),'r') as f:\n",
    "    trip_types_list = [data for data in f]"
   ]
  },
  {
   "cell_type": "code",
   "execution_count": 6,
   "metadata": {},
   "outputs": [],
   "source": [
    "trip_types = sorted(set([data['predicate'] for data in trip_types_list]))"
   ]
  },
  {
   "cell_type": "code",
   "execution_count": 7,
   "metadata": {},
   "outputs": [
    {
     "name": "stdout",
     "output_type": "stream",
     "text": [
      "out_name:c_to_hr\n",
      "cost:0.14秒\n"
     ]
    }
   ],
   "source": [
    "start = time.time()\n",
    "print('out_name:{}'.format(out_name))\n",
    "for data_file,out_file in zip(data_file_list,out_file_list):\n",
    "    read_path = os.path.join(read_dir,data_file)\n",
    "    out_path = os.path.join(out_dir,out_file)\n",
    "    with jsonlines.open(read_path,'r') as f:\n",
    "        datas = [data for data in f]\n",
    "    with jsonlines.open(out_path,'w') as fw:\n",
    "        for data in datas:\n",
    "            inp = inp_prompt.format(relation_list='[\"' +'\",\"'.join(trip_types) + '\"]',text=data['text'])\n",
    "            spo_list = [(item['subject'],item['predicate']) for item in data['spo_list']]\n",
    "            processed_spo_list = []\n",
    "            for spo_item in spo_list:\n",
    "                if spo_item not in processed_spo_list:\n",
    "                    processed_spo_list.append(spo_item)\n",
    "            oup = '\\n'.join(['({}||{})'.format(item[0],item[1]) for item in processed_spo_list])\n",
    "            oup = '```\\n' + oup.strip() + '\\n```'\n",
    "            out_data = {\n",
    "                'instruction':inp,\n",
    "                'input':'',\n",
    "                'output':oup,\n",
    "                'text':data['text'],\n",
    "                'spo_list':data['spo_list']\n",
    "            }\n",
    "            fw.write(out_data)\n",
    "end = time.time()\n",
    "print('cost:{}秒'.format(round(end-start, 2)))"
   ]
  },
  {
   "cell_type": "code",
   "execution_count": 8,
   "metadata": {},
   "outputs": [],
   "source": [
    "# CMeIE\n",
    "# B. c→(t,r)\n",
    "out_name = 'c_to_tr'\n",
    "inp_prompt = '''Currently, you are a senior expert in information extraction. \n",
    "Your task is first to extract possible objects from the given text, and then, based on these objects, identify possible relations from the given relation list. The given relation list is: {relation_list}.\n",
    "The output format for the task is (object||relation).\n",
    "The given text:\"{text}\"\n",
    "'''\n",
    "oup_prompt = '{answer_text}'"
   ]
  },
  {
   "cell_type": "code",
   "execution_count": 9,
   "metadata": {},
   "outputs": [],
   "source": [
    "data_file_list = [\n",
    "    'train.json',\n",
    "    'dev.json',\n",
    "    'test.json',\n",
    "]\n",
    "out_file_list = [\n",
    "    'train.json',\n",
    "    'dev.json',\n",
    "    'test.json'\n",
    "]"
   ]
  },
  {
   "cell_type": "code",
   "execution_count": 10,
   "metadata": {},
   "outputs": [],
   "source": [
    "read_dir = './ori/ADE/'\n",
    "out_dir = './bidirection/ADE'\n",
    "out_dir = os.path.join(out_dir,out_name)\n",
    "if not os.path.exists(out_dir):\n",
    "    os.makedirs(out_dir)\n",
    "with jsonlines.open(os.path.join(read_dir,'65_schemas.json'),'r') as f:\n",
    "    trip_types_list = [data for data in f]"
   ]
  },
  {
   "cell_type": "code",
   "execution_count": 11,
   "metadata": {},
   "outputs": [],
   "source": [
    "trip_types = sorted(set([data['predicate'] for data in trip_types_list]))"
   ]
  },
  {
   "cell_type": "code",
   "execution_count": 12,
   "metadata": {},
   "outputs": [
    {
     "name": "stdout",
     "output_type": "stream",
     "text": [
      "out_name:c_to_tr\n",
      "cost:0.14秒\n"
     ]
    }
   ],
   "source": [
    "start = time.time()\n",
    "print('out_name:{}'.format(out_name))\n",
    "for data_file,out_file in zip(data_file_list,out_file_list):\n",
    "    read_path = os.path.join(read_dir,data_file)\n",
    "    out_path = os.path.join(out_dir,out_file)\n",
    "    with jsonlines.open(read_path,'r') as f:\n",
    "        datas = [data for data in f]\n",
    "    with jsonlines.open(out_path,'w') as fw:\n",
    "        for data in datas:\n",
    "            inp = inp_prompt.format(relation_list='[\"' +'\",\"'.join(trip_types) + '\"]',text=data['text'])\n",
    "            spo_list = [(item['object'],item['predicate']) for item in data['spo_list']]\n",
    "            processed_spo_list = []\n",
    "            for spo_item in spo_list:\n",
    "                if spo_item not in processed_spo_list:\n",
    "                    processed_spo_list.append(spo_item)\n",
    "            oup = '\\n'.join(['({}||{})'.format(item[0],item[1]) for item in processed_spo_list])\n",
    "            oup = '```\\n' + oup.strip() + '\\n```'\n",
    "            out_data = {\n",
    "                'instruction':inp,\n",
    "                'input':'',\n",
    "                'output':oup,\n",
    "                'text':data['text'],\n",
    "                'spo_list':data['spo_list']\n",
    "            }\n",
    "            fw.write(out_data)\n",
    "end = time.time()\n",
    "print('cost:{}秒'.format(round(end-start, 2)))"
   ]
  },
  {
   "cell_type": "code",
   "execution_count": 13,
   "metadata": {},
   "outputs": [],
   "source": [
    "# CMeIE\n",
    "# C. h[s1]c→(t,r)\n",
    "out_name = 'sc_to_tr'\n",
    "inp_prompt = '''Currently, you are a senior expert in information extraction. \n",
    "Your task is to first extract possible objects from the given text and the subject, and then, based on the subject-object entity pairs, identify possible relations from the given relation list. The given relation list is: {relation_list}.\n",
    "The output format for the task is (object||relation).\n",
    "The given text:\"Text: {text}; Subject: {subject}\"\n",
    "'''\n",
    "oup_prompt = '{answer_text}'"
   ]
  },
  {
   "cell_type": "code",
   "execution_count": 14,
   "metadata": {},
   "outputs": [],
   "source": [
    "data_file_list = [\n",
    "    'train.json',\n",
    "    'dev.json',\n",
    "    'test.json',\n",
    "]\n",
    "out_file_list = [\n",
    "    'train.json',\n",
    "    'dev.json',\n",
    "    'test.json'\n",
    "]"
   ]
  },
  {
   "cell_type": "code",
   "execution_count": 15,
   "metadata": {},
   "outputs": [],
   "source": [
    "read_dir = './ori/ADE/'\n",
    "out_dir = './bidirection/ADE'\n",
    "out_dir = os.path.join(out_dir,out_name)\n",
    "if not os.path.exists(out_dir):\n",
    "    os.makedirs(out_dir)\n",
    "with jsonlines.open(os.path.join(read_dir,'65_schemas.json'),'r') as f:\n",
    "    trip_types_list = [data for data in f]"
   ]
  },
  {
   "cell_type": "code",
   "execution_count": 16,
   "metadata": {},
   "outputs": [],
   "source": [
    "trip_types = sorted(set([data['predicate'] for data in trip_types_list]))"
   ]
  },
  {
   "cell_type": "code",
   "execution_count": 17,
   "metadata": {},
   "outputs": [
    {
     "name": "stdout",
     "output_type": "stream",
     "text": [
      "out_name:sc_to_tr\n",
      "cost:0.31秒\n"
     ]
    }
   ],
   "source": [
    "start = time.time()\n",
    "print('out_name:{}'.format(out_name))\n",
    "for data_file,out_file in zip(data_file_list,out_file_list):\n",
    "    read_path = os.path.join(read_dir,data_file)\n",
    "    out_path = os.path.join(out_dir,out_file)\n",
    "    with jsonlines.open(read_path,'r') as f:\n",
    "        datas = [data for data in f]\n",
    "    with jsonlines.open(out_path,'w') as fw:\n",
    "        for data in datas:\n",
    "            spo_def_list = defaultdict(list)\n",
    "            for spo_item in data['spo_list']:\n",
    "                subject = spo_item['subject']\n",
    "                predicate = spo_item['predicate']\n",
    "                obj = spo_item['object']\n",
    "                spo_def_list[subject].append((obj,predicate))\n",
    "            for sub in spo_def_list.keys():\n",
    "                inp = inp_prompt.format(relation_list='[\"' +'\",\"'.join(trip_types) + '\"]',text=data['text'],subject=sub)\n",
    "                spo_list = spo_def_list[sub]\n",
    "                oup = '\\n'.join(['({}||{})'.format(item[0],item[1]) for item in spo_list])\n",
    "                oup = '```\\n' + oup.strip() + '\\n```'\n",
    "                out_data = {\n",
    "                    'instruction':inp,\n",
    "                    'input':'',\n",
    "                    'output':oup,\n",
    "                    'text':data['text'],\n",
    "                    'spo_list':data['spo_list']\n",
    "                }\n",
    "                fw.write(out_data)\n",
    "end = time.time()\n",
    "print('cost:{}秒'.format(round(end-start, 2)))"
   ]
  },
  {
   "cell_type": "code",
   "execution_count": 18,
   "metadata": {},
   "outputs": [
    {
     "data": {
      "text/plain": [
       "{'instruction': 'Currently, you are a senior expert in information extraction. \\nYour task is to first extract possible objects from the given text and the subject, and then, based on the subject-object entity pairs, identify possible relations from the given relation list. The given relation list is: [\"Adverse-Effect\"].\\nThe output format for the task is (object||relation).\\nThe given text:\"Text: To our knowledge this is the first report of pancytopenia due to MMI , where the usual hypoplasia found is replaced by massive plasmocytosis .; Subject: pancytopenia\"\\n',\n",
       " 'input': '',\n",
       " 'output': '```\\n(MMI||Adverse-Effect)\\n```',\n",
       " 'text': 'To our knowledge this is the first report of pancytopenia due to MMI , where the usual hypoplasia found is replaced by massive plasmocytosis .',\n",
       " 'spo_list': [{'predicate': 'Adverse-Effect',\n",
       "   'subject': 'massive plasmocytosis',\n",
       "   'subject_type': 'Adverse-Effect',\n",
       "   'object': 'MMI',\n",
       "   'object_type': 'Drug'},\n",
       "  {'predicate': 'Adverse-Effect',\n",
       "   'subject': 'pancytopenia',\n",
       "   'subject_type': 'Adverse-Effect',\n",
       "   'object': 'MMI',\n",
       "   'object_type': 'Drug'}]}"
      ]
     },
     "execution_count": 18,
     "metadata": {},
     "output_type": "execute_result"
    }
   ],
   "source": [
    "out_data"
   ]
  },
  {
   "cell_type": "code",
   "execution_count": 19,
   "metadata": {},
   "outputs": [],
   "source": [
    "# CMeIE\n",
    "# D. t[s1]c→(h,r). \n",
    "out_name = 'sc_to_hr'\n",
    "inp_prompt = '''Currently, you are a senior expert in information extraction. \n",
    "Your task is to first extract possible subjects from the given text and the object, and then, based on the subject-object entity pairs, identify possible relations from the given relation list. The given relation list is: {relation_list}.\n",
    "The output format for the task is (subject||relation).\n",
    "The given text:\"Text: {text}; Object: {object}\"\n",
    "'''\n",
    "oup_prompt = '{answer_text}'"
   ]
  },
  {
   "cell_type": "code",
   "execution_count": 20,
   "metadata": {},
   "outputs": [],
   "source": [
    "data_file_list = [\n",
    "    'train.json',\n",
    "    'dev.json',\n",
    "    'test.json',\n",
    "]\n",
    "out_file_list = [\n",
    "    'train.json',\n",
    "    'dev.json',\n",
    "    'test.json'\n",
    "]"
   ]
  },
  {
   "cell_type": "code",
   "execution_count": 21,
   "metadata": {},
   "outputs": [],
   "source": [
    "read_dir = './ori/ADE/'\n",
    "out_dir = './bidirection/ADE'\n",
    "out_dir = os.path.join(out_dir,out_name)\n",
    "if not os.path.exists(out_dir):\n",
    "    os.makedirs(out_dir)\n",
    "with jsonlines.open(os.path.join(read_dir,'65_schemas.json'),'r') as f:\n",
    "    trip_types_list = [data for data in f]"
   ]
  },
  {
   "cell_type": "code",
   "execution_count": 22,
   "metadata": {},
   "outputs": [],
   "source": [
    "trip_types = sorted(set([data['predicate'] for data in trip_types_list]))"
   ]
  },
  {
   "cell_type": "code",
   "execution_count": 23,
   "metadata": {},
   "outputs": [
    {
     "name": "stdout",
     "output_type": "stream",
     "text": [
      "out_name:sc_to_hr\n",
      "cost:0.2秒\n"
     ]
    }
   ],
   "source": [
    "start = time.time()\n",
    "print('out_name:{}'.format(out_name))\n",
    "for data_file,out_file in zip(data_file_list,out_file_list):\n",
    "    read_path = os.path.join(read_dir,data_file)\n",
    "    out_path = os.path.join(out_dir,out_file)\n",
    "    with jsonlines.open(read_path,'r') as f:\n",
    "        datas = [data for data in f]\n",
    "    with jsonlines.open(out_path,'w') as fw:\n",
    "        for data in datas:\n",
    "            spo_def_list = defaultdict(list)\n",
    "            for spo_item in data['spo_list']:\n",
    "                subject = spo_item['subject']\n",
    "                predicate = spo_item['predicate']\n",
    "                obj = spo_item['object']\n",
    "                spo_def_list[obj].append((subject,predicate))\n",
    "            for obj in spo_def_list.keys():\n",
    "                inp = inp_prompt.format(relation_list='[\"' +'\",\"'.join(trip_types) + '\"]',text=data['text'],object=obj)\n",
    "                spo_list = spo_def_list[obj]\n",
    "                oup = '\\n'.join(['({}||{})'.format(item[0],item[1]) for item in spo_list])\n",
    "                oup = '```\\n' + oup.strip() + '\\n```'\n",
    "                out_data = {\n",
    "                    'instruction':inp,\n",
    "                    'input':'',\n",
    "                    'output':oup,\n",
    "                    'text':data['text'],\n",
    "                    'spo_list':data['spo_list']\n",
    "                }\n",
    "                fw.write(out_data)\n",
    "end = time.time()\n",
    "print('cost:{}秒'.format(round(end-start, 2)))"
   ]
  },
  {
   "cell_type": "code",
   "execution_count": 24,
   "metadata": {},
   "outputs": [],
   "source": [
    "# CMeIE\n",
    "# A0. c→(h,r,t)  不带标签\n",
    "out_name = 'c_to_hrt'\n",
    "inp_prompt = '''Currently, you are a senior expert in information extraction. \n",
    "Your task is to extract relational triplets from the given text. First, extract the subject-object entity pairs from the given text. Then, based on the above subject-object entity pairs, identify relations from the given relation list. The given relation list is: {relation_list}.\n",
    "The output format for the task is (subject||relation||object).\n",
    "The given text:\"{text}\"\n",
    "'''\n",
    "oup_prompt = '{answer_text}'"
   ]
  },
  {
   "cell_type": "code",
   "execution_count": 25,
   "metadata": {},
   "outputs": [],
   "source": [
    "data_file_list = [\n",
    "    'train.json',\n",
    "    'dev.json',\n",
    "    'test.json',\n",
    "]\n",
    "out_file_list = [\n",
    "    'train.json',\n",
    "    'dev.json',\n",
    "    'test.json'\n",
    "]"
   ]
  },
  {
   "cell_type": "code",
   "execution_count": 26,
   "metadata": {},
   "outputs": [],
   "source": [
    "read_dir = './ori/ADE/'\n",
    "out_dir = './bidirection/ADE'\n",
    "out_dir = os.path.join(out_dir,out_name)\n",
    "if not os.path.exists(out_dir):\n",
    "    os.makedirs(out_dir)\n",
    "with jsonlines.open(os.path.join(read_dir,'65_schemas.json'),'r') as f:\n",
    "    trip_types_list = [data for data in f]"
   ]
  },
  {
   "cell_type": "code",
   "execution_count": 27,
   "metadata": {},
   "outputs": [],
   "source": [
    "trip_types = sorted(set([data['predicate'] for data in trip_types_list]))"
   ]
  },
  {
   "cell_type": "code",
   "execution_count": 28,
   "metadata": {},
   "outputs": [
    {
     "name": "stdout",
     "output_type": "stream",
     "text": [
      "out_name:c_to_hrt\n",
      "cost:0.09秒\n"
     ]
    }
   ],
   "source": [
    "start = time.time()\n",
    "print('out_name:{}'.format(out_name))\n",
    "for data_file,out_file in zip(data_file_list,out_file_list):\n",
    "    read_path = os.path.join(read_dir,data_file)\n",
    "    out_path = os.path.join(out_dir,out_file)\n",
    "    with jsonlines.open(read_path,'r') as f:\n",
    "        datas = [data for data in f]\n",
    "    with jsonlines.open(out_path,'w') as fw:\n",
    "        for data in datas:\n",
    "            inp = inp_prompt.format(relation_list='[\"' +'\",\"'.join(trip_types) + '\"]',text=data['text'])\n",
    "            spo_list = [(item['subject'],item['predicate'],item['object']) for item in data['spo_list']]\n",
    "            processed_spo_list = []\n",
    "            for spo_item in spo_list:\n",
    "                if spo_item not in processed_spo_list:\n",
    "                    processed_spo_list.append(spo_item)\n",
    "            oup = '\\n'.join(['({}||{}||{})'.format(item[0],item[1],item[2]) for item in processed_spo_list])\n",
    "            oup = '```\\n' + oup.strip() + '\\n```'\n",
    "            out_data = {\n",
    "                'instruction':inp,\n",
    "                'input':'',\n",
    "                'output':oup,\n",
    "                'text':data['text'],\n",
    "                'spo_list':data['spo_list']\n",
    "            }\n",
    "            fw.write(out_data)\n",
    "end = time.time()\n",
    "print('cost:{}秒'.format(round(end-start, 2)))"
   ]
  },
  {
   "cell_type": "code",
   "execution_count": 29,
   "metadata": {},
   "outputs": [
    {
     "data": {
      "text/plain": [
       "15.524186611175537"
      ]
     },
     "execution_count": 29,
     "metadata": {},
     "output_type": "execute_result"
    }
   ],
   "source": [
    "all_end = time.time()\n",
    "all_end - all_start"
   ]
  }
 ],
 "metadata": {
  "kernelspec": {
   "display_name": "llama_factory",
   "language": "python",
   "name": "python3"
  },
  "language_info": {
   "codemirror_mode": {
    "name": "ipython",
    "version": 3
   },
   "file_extension": ".py",
   "mimetype": "text/x-python",
   "name": "python",
   "nbconvert_exporter": "python",
   "pygments_lexer": "ipython3",
   "version": "3.10.13"
  },
  "orig_nbformat": 4
 },
 "nbformat": 4,
 "nbformat_minor": 2
}
