{
 "cells": [
  {
   "cell_type": "code",
   "execution_count": 1,
   "metadata": {},
   "outputs": [],
   "source": [
    "import os\n",
    "import json\n",
    "import jsonlines\n",
    "from collections import defaultdict\n",
    "import time"
   ]
  },
  {
   "cell_type": "code",
   "execution_count": 2,
   "metadata": {},
   "outputs": [],
   "source": [
    "all_start = time.time()"
   ]
  },
  {
   "cell_type": "code",
   "execution_count": 3,
   "metadata": {},
   "outputs": [],
   "source": [
    "# CMeIE\n",
    "# A. c→(h,r)\n",
    "out_name = 'c_to_hr'\n",
    "inp_prompt = '''当前你是一个资深的信息提取的专家。\n",
    "你的任务是从给定文本中，先抽取可能存在的主体，再基于主体从给定关系列表中提取可能的关系。给定的关系列表{type_list}。\n",
    "任务的输出形式是（主体||关系类型）。\n",
    "给定文本：“{text}”\n",
    "'''\n",
    "oup_prompt = '{answer_text}'"
   ]
  },
  {
   "cell_type": "code",
   "execution_count": 4,
   "metadata": {},
   "outputs": [],
   "source": [
    "data_file_list = [\n",
    "    'CMeIE-V2_train.jsonl',\n",
    "    'CMeIE-V2_dev.jsonl',\n",
    "    'CMeIE-V2_test.jsonl',\n",
    "]\n",
    "out_file_list = [\n",
    "    'train.json',\n",
    "    'dev.json',\n",
    "    'test.json'\n",
    "]"
   ]
  },
  {
   "cell_type": "code",
   "execution_count": 5,
   "metadata": {},
   "outputs": [],
   "source": [
    "read_dir = './ori/CMeIE-V2/'\n",
    "out_dir = './bidirection/CMeIE-V2'\n",
    "out_dir = os.path.join(out_dir,out_name)\n",
    "if not os.path.exists(out_dir):\n",
    "    os.makedirs(out_dir)\n",
    "with open(os.path.join(read_dir,'53_schemas.json'),'r') as f:\n",
    "    trip_types_list = json.load(f)"
   ]
  },
  {
   "cell_type": "code",
   "execution_count": 6,
   "metadata": {},
   "outputs": [],
   "source": [
    "trip_types = sorted(set([data['predicate'] for data in trip_types_list]))"
   ]
  },
  {
   "cell_type": "code",
   "execution_count": 7,
   "metadata": {},
   "outputs": [
    {
     "name": "stdout",
     "output_type": "stream",
     "text": [
      "out_name:c_to_hr\n",
      "cost:2.36秒\n"
     ]
    }
   ],
   "source": [
    "start = time.time()\n",
    "print('out_name:{}'.format(out_name))\n",
    "for data_file,out_file in zip(data_file_list,out_file_list):\n",
    "    read_path = os.path.join(read_dir,data_file)\n",
    "    out_path = os.path.join(out_dir,out_file)\n",
    "    with jsonlines.open(read_path,'r') as f:\n",
    "        datas = [data for data in f]\n",
    "    with jsonlines.open(out_path,'w') as fw:\n",
    "        for data in datas:\n",
    "            inp = inp_prompt.format(type_list='，'.join(trip_types),text=data['text'])\n",
    "            spo_list = [(item['subject'],item['predicate']) for item in data['spo_list']]\n",
    "            processed_spo_list = []\n",
    "            for spo_item in spo_list:\n",
    "                if spo_item not in processed_spo_list:\n",
    "                    processed_spo_list.append(spo_item)\n",
    "            oup = '\\n'.join(['（{}||{}）'.format(item[0],item[1]) for item in processed_spo_list])\n",
    "            oup = '```\\n' + oup.strip() + '\\n```'\n",
    "            out_data = {\n",
    "                'instruction':inp,\n",
    "                'input':'',\n",
    "                'output':oup,\n",
    "                'text':data['text'],\n",
    "                'spo_list':data['spo_list']\n",
    "            }\n",
    "            fw.write(out_data)\n",
    "end = time.time()\n",
    "print('cost:{}秒'.format(round(end-start, 2)))"
   ]
  },
  {
   "cell_type": "code",
   "execution_count": 8,
   "metadata": {},
   "outputs": [],
   "source": [
    "# CMeIE\n",
    "# B. c→(t,r)\n",
    "out_name = 'c_to_tr'\n",
    "inp_prompt = '''当前你是一个资深的信息提取的专家。\n",
    "你的任务是从给定文本中，先抽取可能存在的客体，再基于客体从给定关系列表中提取可能的关系。给定的关系列表：{type_list}。\n",
    "任务的输出形式是（客体||关系类型）。\n",
    "给定文本：“{text}”\n",
    "'''\n",
    "oup_prompt = '{answer_text}'"
   ]
  },
  {
   "cell_type": "code",
   "execution_count": 9,
   "metadata": {},
   "outputs": [],
   "source": [
    "data_file_list = [\n",
    "    'CMeIE-V2_train.jsonl',\n",
    "    'CMeIE-V2_dev.jsonl',\n",
    "    'CMeIE-V2_test.jsonl',\n",
    "]\n",
    "out_file_list = [\n",
    "    'train.json',\n",
    "    'dev.json',\n",
    "    'test.json'\n",
    "]"
   ]
  },
  {
   "cell_type": "code",
   "execution_count": 10,
   "metadata": {},
   "outputs": [],
   "source": [
    "read_dir = './ori/CMeIE-V2/'\n",
    "out_dir = './bidirection/CMeIE-V2'\n",
    "out_dir = os.path.join(out_dir,out_name)\n",
    "if not os.path.exists(out_dir):\n",
    "    os.makedirs(out_dir)\n",
    "with open(os.path.join(read_dir,'53_schemas.json'),'r') as f:\n",
    "    trip_types_list = json.load(f)"
   ]
  },
  {
   "cell_type": "code",
   "execution_count": 11,
   "metadata": {},
   "outputs": [],
   "source": [
    "trip_types = sorted(set([data['predicate'] for data in trip_types_list]))"
   ]
  },
  {
   "cell_type": "code",
   "execution_count": 12,
   "metadata": {},
   "outputs": [
    {
     "name": "stdout",
     "output_type": "stream",
     "text": [
      "out_name:c_to_tr\n",
      "cost:1.79秒\n"
     ]
    }
   ],
   "source": [
    "start = time.time()\n",
    "print('out_name:{}'.format(out_name))\n",
    "for data_file,out_file in zip(data_file_list,out_file_list):\n",
    "    read_path = os.path.join(read_dir,data_file)\n",
    "    out_path = os.path.join(out_dir,out_file)\n",
    "    with jsonlines.open(read_path,'r') as f:\n",
    "        datas = [data for data in f]\n",
    "    with jsonlines.open(out_path,'w') as fw:\n",
    "        for data in datas:\n",
    "            inp = inp_prompt.format(type_list='，'.join(trip_types),text=data['text'])\n",
    "            spo_list = [(item['object']['@value'],item['predicate']) for item in data['spo_list']]\n",
    "            processed_spo_list = []\n",
    "            for spo_item in spo_list:\n",
    "                if spo_item not in processed_spo_list:\n",
    "                    processed_spo_list.append(spo_item)\n",
    "            oup = '\\n'.join(['（{}||{}）'.format(item[0],item[1]) for item in processed_spo_list])\n",
    "            oup = '```\\n' + oup.strip() + '\\n```'\n",
    "            out_data = {\n",
    "                'instruction':inp,\n",
    "                'input':'',\n",
    "                'output':oup,\n",
    "                'text':data['text'],\n",
    "                'spo_list':data['spo_list']\n",
    "            }\n",
    "            fw.write(out_data)\n",
    "end = time.time()\n",
    "print('cost:{}秒'.format(round(end-start, 2)))"
   ]
  },
  {
   "cell_type": "code",
   "execution_count": 13,
   "metadata": {},
   "outputs": [],
   "source": [
    "# CMeIE\n",
    "# C. h[s1]c→(t,r)\n",
    "out_name = 'sc_to_tr'\n",
    "inp_prompt = '''当前你是一个资深的信息提取的专家。\n",
    "你的任务是从给定文本和主体，先抽取可能存在的客体，再基于主客实体对从给定关系列表中提取可能的关系。给定的关系列表：{type_list}。\n",
    "任务的输出形式是（客体||关系类型）。\n",
    "给定文本：“{text}；主体：{subject}”\n",
    "'''\n",
    "oup_prompt = '{answer_text}'"
   ]
  },
  {
   "cell_type": "code",
   "execution_count": 14,
   "metadata": {},
   "outputs": [],
   "source": [
    "data_file_list = [\n",
    "    'CMeIE-V2_train.jsonl',\n",
    "    'CMeIE-V2_dev.jsonl',\n",
    "    'CMeIE-V2_test.jsonl',\n",
    "]\n",
    "out_file_list = [\n",
    "    'train.json',\n",
    "    'dev.json',\n",
    "    'test.json'\n",
    "]"
   ]
  },
  {
   "cell_type": "code",
   "execution_count": 15,
   "metadata": {},
   "outputs": [],
   "source": [
    "read_dir = './ori/CMeIE-V2/'\n",
    "out_dir = './bidirection/CMeIE-V2'\n",
    "out_dir = os.path.join(out_dir,out_name)\n",
    "if not os.path.exists(out_dir):\n",
    "    os.makedirs(out_dir)\n",
    "with open(os.path.join(read_dir,'53_schemas.json'),'r') as f:\n",
    "    trip_types_list = json.load(f)"
   ]
  },
  {
   "cell_type": "code",
   "execution_count": 16,
   "metadata": {},
   "outputs": [],
   "source": [
    "trip_types = sorted(set([data['predicate'] for data in trip_types_list]))"
   ]
  },
  {
   "cell_type": "code",
   "execution_count": 17,
   "metadata": {},
   "outputs": [
    {
     "name": "stdout",
     "output_type": "stream",
     "text": [
      "out_name:sc_to_tr\n",
      "cost:1.51秒\n"
     ]
    }
   ],
   "source": [
    "start = time.time()\n",
    "print('out_name:{}'.format(out_name))\n",
    "for data_file,out_file in zip(data_file_list,out_file_list):\n",
    "    read_path = os.path.join(read_dir,data_file)\n",
    "    out_path = os.path.join(out_dir,out_file)\n",
    "    with jsonlines.open(read_path,'r') as f:\n",
    "        datas = [data for data in f]\n",
    "    with jsonlines.open(out_path,'w') as fw:\n",
    "        for data in datas:\n",
    "            spo_def_list = defaultdict(list)\n",
    "            for spo_item in data['spo_list']:\n",
    "                subject = spo_item['subject']\n",
    "                predicate = spo_item['predicate']\n",
    "                obj = spo_item['object']['@value']\n",
    "                spo_def_list[subject].append((obj,predicate))\n",
    "            for sub in spo_def_list.keys():\n",
    "                inp = inp_prompt.format(type_list='，'.join(trip_types),text=data['text'],subject=sub)\n",
    "                spo_list = spo_def_list[sub]\n",
    "                oup = '\\n'.join(['（{}||{}）'.format(item[0],item[1]) for item in spo_list])\n",
    "                oup = '```\\n' + oup.strip() + '\\n```'\n",
    "                out_data = {\n",
    "                    'instruction':inp,\n",
    "                    'input':'',\n",
    "                    'output':oup,\n",
    "                    'text':data['text'],\n",
    "                    'spo_list':data['spo_list']\n",
    "                }\n",
    "                fw.write(out_data)\n",
    "end = time.time()\n",
    "print('cost:{}秒'.format(round(end-start, 2)))"
   ]
  },
  {
   "cell_type": "code",
   "execution_count": 18,
   "metadata": {},
   "outputs": [
    {
     "data": {
      "text/plain": [
       "{'instruction': '当前你是一个资深的信息提取的专家。\\n你的任务是从给定文本和主体，先抽取可能存在的客体，再基于主客实体对从给定关系列表中提取可能的关系。给定的关系列表：临床表现，传播途径，侵及周围组织转移的症状，内窥镜检查，化疗，发病年龄，发病性别倾向，发病机制，发病率，发病部位，同义词，外侵部位，多发地区，多发季节，多发群体，实验室检查，就诊科室，并发症，影像学检查，手术治疗，放射治疗，死亡率，治疗后症状，病史，病因，病理分型，病理生理，相关（导致），相关（症状），相关（转化），筛查，组织学检查，药物治疗，转移部位，辅助检查，辅助治疗，遗传因素，鉴别诊断，阶段，预后状况，预后生存率，预防，风险评估因素，高危因素。\\n任务的输出形式是（客体||关系类型）。\\n给定文本：“前列腺癌@## 病史和查体 ### 关键诊断因素 ### 常见 查看全部 \\ue313 \\ue316 ### 存在的危险因素 主要危险因素包括年龄大于50岁，黑人和有前列腺癌的家族史。；主体：前列腺癌”\\n',\n",
       " 'input': '',\n",
       " 'output': '```\\n（年龄大于50岁||高危因素）\\n（有前列腺癌的家族史||高危因素）\\n（黑人||多发群体）\\n```',\n",
       " 'text': '前列腺癌@## 病史和查体 ### 关键诊断因素 ### 常见 查看全部 \\ue313 \\ue316 ### 存在的危险因素 主要危险因素包括年龄大于50岁，黑人和有前列腺癌的家族史。',\n",
       " 'spo_list': [{'Combined': False,\n",
       "   'predicate': '高危因素',\n",
       "   'subject': '前列腺癌',\n",
       "   'subject_type': '疾病',\n",
       "   'object': {'@value': '年龄大于50岁'},\n",
       "   'object_type': {'@value': '社会学'}},\n",
       "  {'Combined': False,\n",
       "   'predicate': '高危因素',\n",
       "   'subject': '前列腺癌',\n",
       "   'subject_type': '疾病',\n",
       "   'object': {'@value': '有前列腺癌的家族史'},\n",
       "   'object_type': {'@value': '社会学'}},\n",
       "  {'Combined': False,\n",
       "   'predicate': '多发群体',\n",
       "   'subject': '前列腺癌',\n",
       "   'subject_type': '疾病',\n",
       "   'object': {'@value': '黑人'},\n",
       "   'object_type': {'@value': '流行病学'}}]}"
      ]
     },
     "execution_count": 18,
     "metadata": {},
     "output_type": "execute_result"
    }
   ],
   "source": [
    "out_data"
   ]
  },
  {
   "cell_type": "code",
   "execution_count": 19,
   "metadata": {},
   "outputs": [],
   "source": [
    "# CMeIE\n",
    "# D. t[s1]c→(h,r). \n",
    "out_name = 'sc_to_hr'\n",
    "inp_prompt = '''当前你是一个资深的信息提取的专家。\n",
    "你的任务是从给定文本和客体，先抽取可能存在的主体，再基于主客实体对从给定关系列表中提取可能的关系。给定的关系列表：{type_list}。\n",
    "任务的输出形式是（主体||关系类型）。\n",
    "给定文本：“{text}；客体：{object}”\n",
    "'''\n",
    "oup_prompt = '{answer_text}'"
   ]
  },
  {
   "cell_type": "code",
   "execution_count": 20,
   "metadata": {},
   "outputs": [],
   "source": [
    "data_file_list = [\n",
    "    'CMeIE-V2_train.jsonl',\n",
    "    'CMeIE-V2_dev.jsonl',\n",
    "    'CMeIE-V2_test.jsonl',\n",
    "]\n",
    "out_file_list = [\n",
    "    'train.json',\n",
    "    'dev.json',\n",
    "    'test.json'\n",
    "]"
   ]
  },
  {
   "cell_type": "code",
   "execution_count": 21,
   "metadata": {},
   "outputs": [],
   "source": [
    "read_dir = './ori/CMeIE-V2/'\n",
    "out_dir = './bidirection/CMeIE-V2'\n",
    "out_dir = os.path.join(out_dir,out_name)\n",
    "if not os.path.exists(out_dir):\n",
    "    os.makedirs(out_dir)\n",
    "with open(os.path.join(read_dir,'53_schemas.json'),'r') as f:\n",
    "    trip_types_list = json.load(f)"
   ]
  },
  {
   "cell_type": "code",
   "execution_count": 22,
   "metadata": {},
   "outputs": [],
   "source": [
    "trip_types = sorted(set([data['predicate'] for data in trip_types_list]))"
   ]
  },
  {
   "cell_type": "code",
   "execution_count": 23,
   "metadata": {},
   "outputs": [
    {
     "name": "stdout",
     "output_type": "stream",
     "text": [
      "out_name:sc_to_hr\n",
      "cost:6.12秒\n"
     ]
    }
   ],
   "source": [
    "\n",
    "start = time.time()\n",
    "print('out_name:{}'.format(out_name))\n",
    "for data_file,out_file in zip(data_file_list,out_file_list):\n",
    "    read_path = os.path.join(read_dir,data_file)\n",
    "    out_path = os.path.join(out_dir,out_file)\n",
    "    with jsonlines.open(read_path,'r') as f:\n",
    "        datas = [data for data in f]\n",
    "    with jsonlines.open(out_path,'w') as fw:\n",
    "        for data in datas:\n",
    "            spo_def_list = defaultdict(list)\n",
    "            for spo_item in data['spo_list']:\n",
    "                subject = spo_item['subject']\n",
    "                predicate = spo_item['predicate']\n",
    "                obj = spo_item['object']['@value']\n",
    "                spo_def_list[obj].append((subject,predicate))\n",
    "            for obj in spo_def_list.keys():\n",
    "                inp = inp_prompt.format(type_list='，'.join(trip_types),text=data['text'],object=obj)\n",
    "                spo_list = spo_def_list[obj]\n",
    "                oup = '\\n'.join(['（{}||{}）'.format(item[0],item[1]) for item in spo_list])\n",
    "                oup = '```\\n' + oup.strip() + '\\n```'\n",
    "                out_data = {\n",
    "                    'instruction':inp,\n",
    "                    'input':'',\n",
    "                    'output':oup,\n",
    "                    'text':data['text'],\n",
    "                    'spo_list':data['spo_list']\n",
    "                }\n",
    "                fw.write(out_data)\n",
    "end = time.time()\n",
    "print('cost:{}秒'.format(round(end-start, 2)))"
   ]
  },
  {
   "cell_type": "code",
   "execution_count": 24,
   "metadata": {},
   "outputs": [],
   "source": [
    "# CMeIE\n",
    "# A0. c→(h,r,t)  不带标签\n",
    "out_name = 'c_to_hrt'\n",
    "inp_prompt = '''当前你是一个资深的信息提取的专家。\n",
    "你的任务是从给定文本中，抽取关系三元组。先从给定文本中抽取主客体实体对，再基于主客实体对从给定关系列表中提取可能的关系。给定的关系列表：{type_list}。\n",
    "任务的输出形式是（主体||关系类型||客体）。\n",
    "给定文本：“{text}”\n",
    "'''\n",
    "oup_prompt = '{answer_text}'"
   ]
  },
  {
   "cell_type": "code",
   "execution_count": 25,
   "metadata": {},
   "outputs": [],
   "source": [
    "data_file_list = [\n",
    "    'CMeIE-V2_train.jsonl',\n",
    "    'CMeIE-V2_dev.jsonl',\n",
    "    'CMeIE-V2_test.jsonl',\n",
    "]\n",
    "out_file_list = [\n",
    "    'train.json',\n",
    "    'dev.json',\n",
    "    'test.json'\n",
    "]"
   ]
  },
  {
   "cell_type": "code",
   "execution_count": 26,
   "metadata": {},
   "outputs": [],
   "source": [
    "read_dir = './ori/CMeIE-V2/'\n",
    "out_dir = './bidirection/CMeIE-V2'\n",
    "out_dir = os.path.join(out_dir,out_name)\n",
    "if not os.path.exists(out_dir):\n",
    "    os.makedirs(out_dir)\n",
    "with open(os.path.join(read_dir,'53_schemas.json'),'r') as f:\n",
    "    trip_types_list = json.load(f)"
   ]
  },
  {
   "cell_type": "code",
   "execution_count": 27,
   "metadata": {},
   "outputs": [],
   "source": [
    "trip_types = sorted(set([data['predicate'] for data in trip_types_list]))"
   ]
  },
  {
   "cell_type": "code",
   "execution_count": 28,
   "metadata": {},
   "outputs": [
    {
     "name": "stdout",
     "output_type": "stream",
     "text": [
      "out_name:c_to_hrt\n",
      "cost:1.54秒\n"
     ]
    }
   ],
   "source": [
    "start = time.time()\n",
    "print('out_name:{}'.format(out_name))\n",
    "for data_file,out_file in zip(data_file_list,out_file_list):\n",
    "    read_path = os.path.join(read_dir,data_file)\n",
    "    out_path = os.path.join(out_dir,out_file)\n",
    "    with jsonlines.open(read_path,'r') as f:\n",
    "        datas = [data for data in f]\n",
    "    with jsonlines.open(out_path,'w') as fw:\n",
    "        for data in datas:\n",
    "            inp = inp_prompt.format(type_list='，'.join(trip_types),text=data['text'])\n",
    "            spo_list = [(item['subject'],item['predicate'],item['object']['@value']) for item in data['spo_list']]\n",
    "            processed_spo_list = []\n",
    "            for spo_item in spo_list:\n",
    "                if spo_item not in processed_spo_list:\n",
    "                    processed_spo_list.append(spo_item)\n",
    "            oup = '\\n'.join(['（{}||{}||{}）'.format(item[0],item[1],item[2]) for item in processed_spo_list])\n",
    "            oup = '```\\n' + oup.strip() + '\\n```'\n",
    "            out_data = {\n",
    "                'instruction':inp,\n",
    "                'input':'',\n",
    "                'output':oup,\n",
    "                'text':data['text'],\n",
    "                'spo_list':data['spo_list']\n",
    "            }\n",
    "            fw.write(out_data)\n",
    "end = time.time()\n",
    "print('cost:{}秒'.format(round(end-start, 2)))"
   ]
  },
  {
   "cell_type": "code",
   "execution_count": 29,
   "metadata": {},
   "outputs": [
    {
     "data": {
      "text/plain": [
       "29.590245723724365"
      ]
     },
     "execution_count": 29,
     "metadata": {},
     "output_type": "execute_result"
    }
   ],
   "source": [
    "all_end = time.time()\n",
    "all_end - all_start"
   ]
  }
 ],
 "metadata": {
  "kernelspec": {
   "display_name": "llama_factory",
   "language": "python",
   "name": "python3"
  },
  "language_info": {
   "codemirror_mode": {
    "name": "ipython",
    "version": 3
   },
   "file_extension": ".py",
   "mimetype": "text/x-python",
   "name": "python",
   "nbconvert_exporter": "python",
   "pygments_lexer": "ipython3",
   "version": "3.10.13"
  },
  "orig_nbformat": 4
 },
 "nbformat": 4,
 "nbformat_minor": 2
}
