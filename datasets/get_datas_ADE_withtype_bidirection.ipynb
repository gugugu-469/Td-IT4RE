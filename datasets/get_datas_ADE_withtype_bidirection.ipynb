{
 "cells": [
  {
   "cell_type": "code",
   "execution_count": 1,
   "metadata": {},
   "outputs": [],
   "source": [
    "import os\n",
    "import json\n",
    "import jsonlines\n",
    "from collections import defaultdict\n",
    "import time"
   ]
  },
  {
   "cell_type": "code",
   "execution_count": 2,
   "metadata": {},
   "outputs": [],
   "source": [
    "all_start = time.time()"
   ]
  },
  {
   "cell_type": "code",
   "execution_count": 3,
   "metadata": {},
   "outputs": [],
   "source": [
    "# CMeIE\n",
    "# A. c→(h,r)\n",
    "out_name = 'c_to_hr_withtype'\n",
    "inp_prompt = '''Currently, you are a senior expert in information extraction. \n",
    "Your task is to first extract possible subjects from the given text and then identify possible entity types of these subjects from the given entity type list. The given entity type list is: {entity_list}.\n",
    "Next, based on the subjects and their entity types, identify possible relations from the given relation list. The given relation list is: {relation_list}.\n",
    "The output format for the task is (subject||entity type||relation).\n",
    "The given text:\"{text}\"\n",
    "'''\n",
    "oup_prompt = '{answer_text}'"
   ]
  },
  {
   "cell_type": "code",
   "execution_count": 4,
   "metadata": {},
   "outputs": [],
   "source": [
    "data_file_list = [\n",
    "    'train.json',\n",
    "    'dev.json',\n",
    "    'test.json',\n",
    "]\n",
    "out_file_list = [\n",
    "    'train.json',\n",
    "    'dev.json',\n",
    "    'test.json'\n",
    "]"
   ]
  },
  {
   "cell_type": "code",
   "execution_count": 5,
   "metadata": {},
   "outputs": [],
   "source": [
    "read_dir = './ori/ADE/'\n",
    "out_dir = './bidirection/ADE'\n",
    "out_dir = os.path.join(out_dir,out_name)\n",
    "if not os.path.exists(out_dir):\n",
    "    os.makedirs(out_dir)\n",
    "with jsonlines.open(os.path.join(read_dir,'65_schemas.json'),'r') as f:\n",
    "    trip_types_list = [data for data in f]"
   ]
  },
  {
   "cell_type": "code",
   "execution_count": 6,
   "metadata": {},
   "outputs": [],
   "source": [
    "trip_types = sorted(set([data['predicate'] for data in trip_types_list]))\n",
    "ent_type_list = []\n",
    "for data in trip_types_list:\n",
    "    ent_type_list.append(data['subject_type'])\n",
    "    ent_type_list.append(data['object_type'])\n",
    "ent_types = sorted(set(ent_type_list),reverse=True)"
   ]
  },
  {
   "cell_type": "code",
   "execution_count": 7,
   "metadata": {},
   "outputs": [
    {
     "name": "stdout",
     "output_type": "stream",
     "text": [
      "out_name:c_to_hr_withtype\n",
      "cost:0.16秒\n"
     ]
    }
   ],
   "source": [
    "start = time.time()\n",
    "print('out_name:{}'.format(out_name))\n",
    "for data_file,out_file in zip(data_file_list,out_file_list):\n",
    "    read_path = os.path.join(read_dir,data_file)\n",
    "    out_path = os.path.join(out_dir,out_file)\n",
    "    with jsonlines.open(read_path,'r') as f:\n",
    "        datas = [data for data in f]\n",
    "    with jsonlines.open(out_path,'w') as fw:\n",
    "        for data in datas:\n",
    "            inp = inp_prompt.format(relation_list='[\"' +'\",\"'.join(trip_types) + '\"]',entity_list = '[\"' +'\",\"'.join(ent_types)+ '\"]',text=data['text'])\n",
    "            spo_list = [(item['subject'],item['subject_type'],item['predicate']) for item in data['spo_list']]\n",
    "            processed_spo_list = []\n",
    "            for spo_item in spo_list:\n",
    "                if spo_item not in processed_spo_list:\n",
    "                    processed_spo_list.append(spo_item)\n",
    "            oup = '\\n'.join(['({}||{}||{})'.format(item[0],item[1],item[2]) for item in processed_spo_list])\n",
    "            oup = '```\\n' + oup.strip() + '\\n```'\n",
    "            out_data = {\n",
    "                'instruction':inp,\n",
    "                'input':'',\n",
    "                'output':oup,\n",
    "                'text':data['text'],\n",
    "                'spo_list':data['spo_list']\n",
    "            }\n",
    "            fw.write(out_data)\n",
    "end = time.time()\n",
    "print('cost:{}秒'.format(round(end-start, 2)))"
   ]
  },
  {
   "cell_type": "code",
   "execution_count": 8,
   "metadata": {},
   "outputs": [],
   "source": [
    "# CMeIE\n",
    "# B. c→(t,r)\n",
    "out_name = 'c_to_tr_withtype'\n",
    "inp_prompt = '''Currently, you are a senior expert in information extraction. \n",
    "Your task is to first extract possible objects from the given text and then identify possible entity types of these objects from the given entity type list. The given entity type list is: {entity_list}.\n",
    "Next, based on the objects and their entity types, identify possible relations from the given relation list. The given relation list is: {relation_list}.\n",
    "The output format for the task is (object||entity type||relation).\n",
    "The given text:\"{text}\"\n",
    "'''\n",
    "oup_prompt = '{answer_text}'"
   ]
  },
  {
   "cell_type": "code",
   "execution_count": 9,
   "metadata": {},
   "outputs": [],
   "source": [
    "data_file_list = [\n",
    "    'train.json',\n",
    "    'dev.json',\n",
    "    'test.json',\n",
    "]\n",
    "out_file_list = [\n",
    "    'train.json',\n",
    "    'dev.json',\n",
    "    'test.json'\n",
    "]"
   ]
  },
  {
   "cell_type": "code",
   "execution_count": 10,
   "metadata": {},
   "outputs": [],
   "source": [
    "read_dir = './ori/ADE/'\n",
    "out_dir = './bidirection/ADE'\n",
    "out_dir = os.path.join(out_dir,out_name)\n",
    "if not os.path.exists(out_dir):\n",
    "    os.makedirs(out_dir)\n",
    "with jsonlines.open(os.path.join(read_dir,'65_schemas.json'),'r') as f:\n",
    "    trip_types_list = [data for data in f]"
   ]
  },
  {
   "cell_type": "code",
   "execution_count": 11,
   "metadata": {},
   "outputs": [],
   "source": [
    "trip_types = sorted(set([data['predicate'] for data in trip_types_list]))"
   ]
  },
  {
   "cell_type": "code",
   "execution_count": 12,
   "metadata": {},
   "outputs": [
    {
     "name": "stdout",
     "output_type": "stream",
     "text": [
      "out_name:c_to_tr_withtype\n",
      "cost:0.16秒\n"
     ]
    }
   ],
   "source": [
    "start = time.time()\n",
    "print('out_name:{}'.format(out_name))\n",
    "for data_file,out_file in zip(data_file_list,out_file_list):\n",
    "    read_path = os.path.join(read_dir,data_file)\n",
    "    out_path = os.path.join(out_dir,out_file)\n",
    "    with jsonlines.open(read_path,'r') as f:\n",
    "        datas = [data for data in f]\n",
    "    with jsonlines.open(out_path,'w') as fw:\n",
    "        for data in datas:\n",
    "            inp = inp_prompt.format(relation_list='[\"' +'\",\"'.join(trip_types) + '\"]',entity_list = '[\"' +'\",\"'.join(ent_types)+ '\"]',text=data['text'])\n",
    "            spo_list = [(item['object'],item['object_type'],item['predicate']) for item in data['spo_list']]\n",
    "            processed_spo_list = []\n",
    "            for spo_item in spo_list:\n",
    "                if spo_item not in processed_spo_list:\n",
    "                    processed_spo_list.append(spo_item)\n",
    "            oup = '\\n'.join(['({}||{}||{})'.format(item[0],item[1],item[2]) for item in processed_spo_list])\n",
    "            oup = '```\\n' + oup.strip() + '\\n```'\n",
    "            out_data = {\n",
    "                'instruction':inp,\n",
    "                'input':'',\n",
    "                'output':oup,\n",
    "                'text':data['text'],\n",
    "                'spo_list':data['spo_list']\n",
    "            }\n",
    "            fw.write(out_data)\n",
    "end = time.time()\n",
    "print('cost:{}秒'.format(round(end-start, 2)))"
   ]
  },
  {
   "cell_type": "code",
   "execution_count": 13,
   "metadata": {},
   "outputs": [],
   "source": [
    "# CMeIE\n",
    "# C. h[s1]c→(t,r)\n",
    "out_name = 'sc_to_tr_withtype'\n",
    "inp_prompt = '''Currently, you are a senior expert in information extraction. \n",
    "Your task is to first extract possible objects from the given text, the subject, and the subject type, and then identify possible entity types of these objects from the given entity type list. The given entity type list is: {entity_list}.\n",
    "Next, based on the subject-object entity pairs and their corresponding entity types, identify possible relations from the given relation list. The given relation list is: {relation_list}.\n",
    "The output format for the task is (object||entity type||relation).\n",
    "The given text:\"{text}; Subject: {subject}; Subject entity type: {subject_type}\"\n",
    "'''\n",
    "oup_prompt = '{answer_text}'"
   ]
  },
  {
   "cell_type": "code",
   "execution_count": 14,
   "metadata": {},
   "outputs": [],
   "source": [
    "data_file_list = [\n",
    "    'train.json',\n",
    "    'dev.json',\n",
    "    'test.json',\n",
    "]\n",
    "out_file_list = [\n",
    "    'train.json',\n",
    "    'dev.json',\n",
    "    'test.json'\n",
    "]"
   ]
  },
  {
   "cell_type": "code",
   "execution_count": 15,
   "metadata": {},
   "outputs": [],
   "source": [
    "read_dir = './ori/ADE/'\n",
    "out_dir = './bidirection/ADE'\n",
    "out_dir = os.path.join(out_dir,out_name)\n",
    "if not os.path.exists(out_dir):\n",
    "    os.makedirs(out_dir)\n",
    "with jsonlines.open(os.path.join(read_dir,'65_schemas.json'),'r') as f:\n",
    "    trip_types_list = [data for data in f]"
   ]
  },
  {
   "cell_type": "code",
   "execution_count": 16,
   "metadata": {},
   "outputs": [],
   "source": [
    "trip_types = sorted(set([data['predicate'] for data in trip_types_list]))"
   ]
  },
  {
   "cell_type": "code",
   "execution_count": 17,
   "metadata": {},
   "outputs": [
    {
     "name": "stdout",
     "output_type": "stream",
     "text": [
      "out_name:sc_to_tr_withtype\n",
      "cost:0.22秒\n"
     ]
    }
   ],
   "source": [
    "start = time.time()\n",
    "print('out_name:{}'.format(out_name))\n",
    "for data_file,out_file in zip(data_file_list,out_file_list):\n",
    "    read_path = os.path.join(read_dir,data_file)\n",
    "    out_path = os.path.join(out_dir,out_file)\n",
    "    with jsonlines.open(read_path,'r') as f:\n",
    "        datas = [data for data in f]\n",
    "    with jsonlines.open(out_path,'w') as fw:\n",
    "        for data in datas:\n",
    "            spo_def_list = defaultdict(list)\n",
    "            for spo_item in data['spo_list']:\n",
    "                subject = spo_item['subject']\n",
    "                subject_type = spo_item['subject_type']\n",
    "                predicate = spo_item['predicate']\n",
    "                obj = spo_item['object']\n",
    "                obj_type = spo_item['object_type']\n",
    "                spo_def_list[(subject,subject_type)].append((obj,obj_type,predicate))\n",
    "            for sub,sub_type in spo_def_list.keys():\n",
    "                inp = inp_prompt.format(relation_list='[\"' +'\",\"'.join(trip_types) + '\"]',entity_list = '[\"' +'\",\"'.join(ent_types)+ '\"]',text=data['text'],subject=sub,subject_type = sub_type)\n",
    "                spo_list = spo_def_list[(sub,sub_type)]\n",
    "                oup = '\\n'.join(['({}||{}||{})'.format(item[0],item[1],item[2]) for item in spo_list])\n",
    "                oup = '```\\n' + oup.strip() + '\\n```'\n",
    "                out_data = {\n",
    "                    'instruction':inp,\n",
    "                    'input':'',\n",
    "                    'output':oup,\n",
    "                    'text':data['text'],\n",
    "                    'spo_list':data['spo_list']\n",
    "                }\n",
    "                fw.write(out_data)\n",
    "end = time.time()\n",
    "print('cost:{}秒'.format(round(end-start, 2)))"
   ]
  },
  {
   "cell_type": "code",
   "execution_count": 18,
   "metadata": {},
   "outputs": [],
   "source": [
    "# CMeIE\n",
    "# D. t[s1]c→(h,r). \n",
    "out_name = 'sc_to_hr_withtype'\n",
    "inp_prompt = '''Currently, you are a senior expert in information extraction. \n",
    "Your task is to first extract possible subjects from the given text, the object, and the object type, and then identify possible entity types of these subjects from the given entity type list. The given entity type list is: {entity_list}.\n",
    "Next, based on the subject-object entity pairs and their corresponding entity types, identify possible relations from the given relation list. The given relation list is: {relation_list}.\n",
    "The output format for the task is (subject||entity type||relation).\n",
    "The given text:\"{text}; Object: {object}; Object entity type: {object_type}\"\n",
    "'''\n",
    "oup_prompt = '{answer_text}'"
   ]
  },
  {
   "cell_type": "code",
   "execution_count": 19,
   "metadata": {},
   "outputs": [],
   "source": [
    "data_file_list = [\n",
    "    'train.json',\n",
    "    'dev.json',\n",
    "    'test.json',\n",
    "]\n",
    "out_file_list = [\n",
    "    'train.json',\n",
    "    'dev.json',\n",
    "    'test.json'\n",
    "]"
   ]
  },
  {
   "cell_type": "code",
   "execution_count": 20,
   "metadata": {},
   "outputs": [],
   "source": [
    "read_dir = './ori/ADE/'\n",
    "out_dir = './bidirection/ADE'\n",
    "out_dir = os.path.join(out_dir,out_name)\n",
    "if not os.path.exists(out_dir):\n",
    "    os.makedirs(out_dir)\n",
    "with jsonlines.open(os.path.join(read_dir,'65_schemas.json'),'r') as f:\n",
    "    trip_types_list = [data for data in f]"
   ]
  },
  {
   "cell_type": "code",
   "execution_count": 21,
   "metadata": {},
   "outputs": [],
   "source": [
    "trip_types = sorted(set([data['predicate'] for data in trip_types_list]))"
   ]
  },
  {
   "cell_type": "code",
   "execution_count": 22,
   "metadata": {},
   "outputs": [
    {
     "name": "stdout",
     "output_type": "stream",
     "text": [
      "out_name:sc_to_hr_withtype\n",
      "cost:0.32秒\n"
     ]
    }
   ],
   "source": [
    "start = time.time()\n",
    "print('out_name:{}'.format(out_name))\n",
    "for data_file,out_file in zip(data_file_list,out_file_list):\n",
    "    read_path = os.path.join(read_dir,data_file)\n",
    "    out_path = os.path.join(out_dir,out_file)\n",
    "    with jsonlines.open(read_path,'r') as f:\n",
    "        datas = [data for data in f]\n",
    "    with jsonlines.open(out_path,'w') as fw:\n",
    "        for data in datas:\n",
    "            spo_def_list = defaultdict(list)\n",
    "            for spo_item in data['spo_list']:\n",
    "                subject = spo_item['subject']\n",
    "                subject_type = spo_item['subject_type']\n",
    "                predicate = spo_item['predicate']\n",
    "                obj = spo_item['object']\n",
    "                obj_type = spo_item['object_type']\n",
    "                spo_def_list[(obj,obj_type)].append((subject,subject_type,predicate))\n",
    "            for obj,obj_type in spo_def_list.keys():\n",
    "                inp = inp_prompt.format(relation_list='[\"' +'\",\"'.join(trip_types) + '\"]',entity_list = '[\"' +'\",\"'.join(ent_types)+ '\"]',text=data['text'],object=obj,object_type = obj_type)\n",
    "                spo_list = spo_def_list[(obj,obj_type)]\n",
    "                oup = '\\n'.join(['({}||{}||{})'.format(item[0],item[1],item[2]) for item in spo_list])\n",
    "                oup = '```\\n' + oup.strip() + '\\n```'\n",
    "                out_data = {\n",
    "                    'instruction':inp,\n",
    "                    'input':'',\n",
    "                    'output':oup,\n",
    "                    'text':data['text'],\n",
    "                    'spo_list':data['spo_list']\n",
    "                }\n",
    "                fw.write(out_data)\n",
    "end = time.time()\n",
    "print('cost:{}秒'.format(round(end-start, 2)))"
   ]
  },
  {
   "cell_type": "code",
   "execution_count": 23,
   "metadata": {},
   "outputs": [],
   "source": [
    "# CMeIE\n",
    "# A0. c→(h,r,t)\n",
    "out_name = 'c_to_hrt_withtype'\n",
    "inp_prompt = '''Currently, you are a senior expert in information extraction. \n",
    "Your task is to extract relational triplets from the given text. First, extract the subject-object entity pairs from the given text, and based on these subject-object entity pairs, identify the subject entity types and the object entity types from the given entity type list. The given entity type  list is: {entity_list}.\n",
    "Then, based on the subject-object entity pairs and their corresponding entity types, extract the possible relations from the given relation list. The given relation list is: {relation_list}.\n",
    "The output format for the task is (subject||subject type||relation||object||object type).\n",
    "The given text:\"{text}\"\n",
    "'''\n",
    "oup_prompt = '{answer_text}'"
   ]
  },
  {
   "cell_type": "code",
   "execution_count": 24,
   "metadata": {},
   "outputs": [],
   "source": [
    "data_file_list = [\n",
    "    'train.json',\n",
    "    'dev.json',\n",
    "    'test.json',\n",
    "]\n",
    "out_file_list = [\n",
    "    'train.json',\n",
    "    'dev.json',\n",
    "    'test.json'\n",
    "]"
   ]
  },
  {
   "cell_type": "code",
   "execution_count": 25,
   "metadata": {},
   "outputs": [],
   "source": [
    "read_dir = './ori/ADE/'\n",
    "out_dir = './bidirection/ADE'\n",
    "out_dir = os.path.join(out_dir,out_name)\n",
    "if not os.path.exists(out_dir):\n",
    "    os.makedirs(out_dir)\n",
    "with jsonlines.open(os.path.join(read_dir,'65_schemas.json'),'r') as f:\n",
    "    trip_types_list = [data for data in f]"
   ]
  },
  {
   "cell_type": "code",
   "execution_count": 26,
   "metadata": {},
   "outputs": [],
   "source": [
    "trip_types = sorted(set([data['predicate'] for data in trip_types_list]))"
   ]
  },
  {
   "cell_type": "code",
   "execution_count": 27,
   "metadata": {},
   "outputs": [
    {
     "name": "stdout",
     "output_type": "stream",
     "text": [
      "out_name:c_to_hrt_withtype\n",
      "cost:0.23秒\n"
     ]
    }
   ],
   "source": [
    "start = time.time()\n",
    "print('out_name:{}'.format(out_name))\n",
    "for data_file,out_file in zip(data_file_list,out_file_list):\n",
    "    read_path = os.path.join(read_dir,data_file)\n",
    "    out_path = os.path.join(out_dir,out_file)\n",
    "    with jsonlines.open(read_path,'r') as f:\n",
    "        datas = [data for data in f]\n",
    "    with jsonlines.open(out_path,'w') as fw:\n",
    "        for data in datas:\n",
    "            inp = inp_prompt.format(relation_list='[\"' +'\",\"'.join(trip_types) + '\"]',entity_list = '[\"' +'\",\"'.join(ent_types)+ '\"]',text=data['text'])\n",
    "            spo_list = [(item['subject'],item['subject_type'],item['predicate'],item['object'],item['object_type']) for item in data['spo_list']]\n",
    "            processed_spo_list = []\n",
    "            for spo_item in spo_list:\n",
    "                if spo_item not in processed_spo_list:\n",
    "                    processed_spo_list.append(spo_item)\n",
    "            oup = '\\n'.join(['({}||{}||{}||{}||{})'.format(item[0],item[1],item[2],item[3],item[4]) for item in processed_spo_list])\n",
    "            oup = '```\\n' + oup.strip() + '\\n```'\n",
    "            out_data = {\n",
    "                'instruction':inp,\n",
    "                'input':'',\n",
    "                'output':oup,\n",
    "                'text':data['text'],\n",
    "                'spo_list':data['spo_list']\n",
    "            }\n",
    "            fw.write(out_data)\n",
    "end = time.time()\n",
    "print('cost:{}秒'.format(round(end-start, 2)))"
   ]
  },
  {
   "cell_type": "code",
   "execution_count": 28,
   "metadata": {},
   "outputs": [
    {
     "data": {
      "text/plain": [
       "24.474214792251587"
      ]
     },
     "execution_count": 28,
     "metadata": {},
     "output_type": "execute_result"
    }
   ],
   "source": [
    "all_end = time.time()\n",
    "all_end - all_start"
   ]
  }
 ],
 "metadata": {
  "kernelspec": {
   "display_name": "llama_factory",
   "language": "python",
   "name": "python3"
  },
  "language_info": {
   "codemirror_mode": {
    "name": "ipython",
    "version": 3
   },
   "file_extension": ".py",
   "mimetype": "text/x-python",
   "name": "python",
   "nbconvert_exporter": "python",
   "pygments_lexer": "ipython3",
   "version": "3.10.13"
  },
  "orig_nbformat": 4
 },
 "nbformat": 4,
 "nbformat_minor": 2
}
