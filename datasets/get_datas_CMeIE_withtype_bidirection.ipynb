{
 "cells": [
  {
   "cell_type": "code",
   "execution_count": 1,
   "metadata": {},
   "outputs": [],
   "source": [
    "import os\n",
    "import json\n",
    "import jsonlines\n",
    "from collections import defaultdict\n",
    "import time"
   ]
  },
  {
   "cell_type": "code",
   "execution_count": 2,
   "metadata": {},
   "outputs": [],
   "source": [
    "all_start = time.time()"
   ]
  },
  {
   "cell_type": "code",
   "execution_count": 3,
   "metadata": {},
   "outputs": [],
   "source": [
    "# CMeIE\n",
    "# A. c→(h,r)\n",
    "out_name = 'c_to_hr_withtype'\n",
    "inp_prompt = '''当前你是一个资深的信息提取的专家。\n",
    "你的任务是从给定文本中，先抽取可能存在的主体，并基于主体从给定实体列表中提取可能的实体类型。给定的实体类型列表：{entity_list}。\n",
    "然后基于主体和实体类型从给定关系列表中提取可能的关系。给定的关系列表{relation_list}。\n",
    "任务的输出形式是（主体||实体类型||关系类型）。\n",
    "给定文本：“{text}”\n",
    "'''\n",
    "oup_prompt = '{answer_text}'"
   ]
  },
  {
   "cell_type": "code",
   "execution_count": 4,
   "metadata": {},
   "outputs": [],
   "source": [
    "data_file_list = [\n",
    "    'CMeIE-V2_train.jsonl',\n",
    "    'CMeIE-V2_dev.jsonl',\n",
    "    'CMeIE-V2_test.jsonl',\n",
    "]\n",
    "out_file_list = [\n",
    "    'train.json',\n",
    "    'dev.json',\n",
    "    'test.json'\n",
    "]"
   ]
  },
  {
   "cell_type": "code",
   "execution_count": 5,
   "metadata": {},
   "outputs": [],
   "source": [
    "read_dir = './ori/CMeIE-V2/'\n",
    "out_dir = './bidirection/CMeIE-V2'\n",
    "out_dir = os.path.join(out_dir,out_name)\n",
    "if not os.path.exists(out_dir):\n",
    "    os.makedirs(out_dir)\n",
    "with open(os.path.join(read_dir,'53_schemas.json'),'r') as f:\n",
    "    trip_types_list = json.load(f)"
   ]
  },
  {
   "cell_type": "code",
   "execution_count": 6,
   "metadata": {},
   "outputs": [],
   "source": [
    "trip_types = sorted(set([data['predicate'] for data in trip_types_list]))\n",
    "ent_type_list = []\n",
    "for data in trip_types_list:\n",
    "    ent_type_list.append(data['subject_type'])\n",
    "    ent_type_list.append(data['object_type'])\n",
    "ent_types = sorted(set(ent_type_list),reverse=True)"
   ]
  },
  {
   "cell_type": "code",
   "execution_count": 7,
   "metadata": {},
   "outputs": [
    {
     "name": "stdout",
     "output_type": "stream",
     "text": [
      "out_name:c_to_hr_withtype\n",
      "cost:2.26秒\n"
     ]
    }
   ],
   "source": [
    "start = time.time()\n",
    "print('out_name:{}'.format(out_name))\n",
    "for data_file,out_file in zip(data_file_list,out_file_list):\n",
    "    read_path = os.path.join(read_dir,data_file)\n",
    "    out_path = os.path.join(out_dir,out_file)\n",
    "    with jsonlines.open(read_path,'r') as f:\n",
    "        datas = [data for data in f]\n",
    "    with jsonlines.open(out_path,'w') as fw:\n",
    "        for data in datas:\n",
    "            inp = inp_prompt.format(relation_list='，'.join(trip_types),entity_list = '，'.join(ent_types),text=data['text'])\n",
    "            spo_list = [(item['subject'],item['subject_type'],item['predicate']) for item in data['spo_list']]\n",
    "            processed_spo_list = []\n",
    "            for spo_item in spo_list:\n",
    "                if spo_item not in processed_spo_list:\n",
    "                    processed_spo_list.append(spo_item)\n",
    "            oup = '\\n'.join(['（{}||{}||{}）'.format(item[0],item[1],item[2]) for item in processed_spo_list])\n",
    "            oup = '```\\n' + oup.strip() + '\\n```'\n",
    "            out_data = {\n",
    "                'instruction':inp,\n",
    "                'input':'',\n",
    "                'output':oup,\n",
    "                'text':data['text'],\n",
    "                'spo_list':data['spo_list']\n",
    "            }\n",
    "            fw.write(out_data)\n",
    "end = time.time()\n",
    "print('cost:{}秒'.format(round(end-start, 2)))"
   ]
  },
  {
   "cell_type": "code",
   "execution_count": 8,
   "metadata": {},
   "outputs": [],
   "source": [
    "# CMeIE\n",
    "# B. c→(t,r)\n",
    "out_name = 'c_to_tr_withtype'\n",
    "inp_prompt = '''当前你是一个资深的信息提取的专家。\n",
    "你的任务是从给定文本中，先抽取可能存在的客体，并基于客体从给定实体列表中提取可能的实体类型。给定的实体类型列表：{entity_list}。\n",
    "然后基于客体和实体类型从给定关系列表中提取可能的关系。给定的关系列表{relation_list}。\n",
    "任务的输出形式是（客体||实体类型||关系类型）。\n",
    "给定文本：“{text}”\n",
    "'''\n",
    "oup_prompt = '{answer_text}'"
   ]
  },
  {
   "cell_type": "code",
   "execution_count": 9,
   "metadata": {},
   "outputs": [],
   "source": [
    "data_file_list = [\n",
    "    'CMeIE-V2_train.jsonl',\n",
    "    'CMeIE-V2_dev.jsonl',\n",
    "    'CMeIE-V2_test.jsonl',\n",
    "]\n",
    "out_file_list = [\n",
    "    'train.json',\n",
    "    'dev.json',\n",
    "    'test.json'\n",
    "]"
   ]
  },
  {
   "cell_type": "code",
   "execution_count": 10,
   "metadata": {},
   "outputs": [],
   "source": [
    "read_dir = './ori/CMeIE-V2/'\n",
    "out_dir = './bidirection/CMeIE-V2'\n",
    "out_dir = os.path.join(out_dir,out_name)\n",
    "if not os.path.exists(out_dir):\n",
    "    os.makedirs(out_dir)\n",
    "with open(os.path.join(read_dir,'53_schemas.json'),'r') as f:\n",
    "    trip_types_list = json.load(f)"
   ]
  },
  {
   "cell_type": "code",
   "execution_count": 11,
   "metadata": {},
   "outputs": [],
   "source": [
    "trip_types = sorted(set([data['predicate'] for data in trip_types_list]))"
   ]
  },
  {
   "cell_type": "code",
   "execution_count": 12,
   "metadata": {},
   "outputs": [
    {
     "name": "stdout",
     "output_type": "stream",
     "text": [
      "out_name:c_to_tr_withtype\n",
      "cost:2.53秒\n"
     ]
    }
   ],
   "source": [
    "start = time.time()\n",
    "print('out_name:{}'.format(out_name))\n",
    "for data_file,out_file in zip(data_file_list,out_file_list):\n",
    "    read_path = os.path.join(read_dir,data_file)\n",
    "    out_path = os.path.join(out_dir,out_file)\n",
    "    with jsonlines.open(read_path,'r') as f:\n",
    "        datas = [data for data in f]\n",
    "    with jsonlines.open(out_path,'w') as fw:\n",
    "        for data in datas:\n",
    "            inp = inp_prompt.format(relation_list='，'.join(trip_types),entity_list = '，'.join(ent_types),text=data['text'])\n",
    "            spo_list = [(item['object']['@value'],item['object_type']['@value'],item['predicate']) for item in data['spo_list']]\n",
    "            processed_spo_list = []\n",
    "            for spo_item in spo_list:\n",
    "                if spo_item not in processed_spo_list:\n",
    "                    processed_spo_list.append(spo_item)\n",
    "            oup = '\\n'.join(['（{}||{}||{}）'.format(item[0],item[1],item[2]) for item in processed_spo_list])\n",
    "            oup = '```\\n' + oup.strip() + '\\n```'\n",
    "            out_data = {\n",
    "                'instruction':inp,\n",
    "                'input':'',\n",
    "                'output':oup,\n",
    "                'text':data['text'],\n",
    "                'spo_list':data['spo_list']\n",
    "            }\n",
    "            fw.write(out_data)\n",
    "end = time.time()\n",
    "print('cost:{}秒'.format(round(end-start, 2)))"
   ]
  },
  {
   "cell_type": "code",
   "execution_count": 13,
   "metadata": {},
   "outputs": [],
   "source": [
    "# CMeIE\n",
    "# C. h[s1]c→(t,r)\n",
    "out_name = 'sc_to_tr_withtype'\n",
    "inp_prompt = '''当前你是一个资深的信息提取的专家。\n",
    "你的任务是从给定文本、主体和主体类型，先抽取可能存在的客体，并基于客体从给定实体列表中提取可能的实体类型。给定的实体类型列表：{entity_list}。\n",
    "然后基于主客实体对及其对应的实体类型从给定关系列表中提取可能的关系。给定的关系列表{relation_list}。\n",
    "任务的输出形式是（客体||实体类型||关系类型）。\n",
    "给定文本：“文本：{text}；主体：{subject}；主体类型：{subject_type}”\n",
    "'''\n",
    "oup_prompt = '{answer_text}'"
   ]
  },
  {
   "cell_type": "code",
   "execution_count": 14,
   "metadata": {},
   "outputs": [],
   "source": [
    "data_file_list = [\n",
    "    'CMeIE-V2_train.jsonl',\n",
    "    'CMeIE-V2_dev.jsonl',\n",
    "    'CMeIE-V2_test.jsonl',\n",
    "]\n",
    "out_file_list = [\n",
    "    'train.json',\n",
    "    'dev.json',\n",
    "    'test.json'\n",
    "]"
   ]
  },
  {
   "cell_type": "code",
   "execution_count": 15,
   "metadata": {},
   "outputs": [],
   "source": [
    "read_dir = './ori/CMeIE-V2/'\n",
    "out_dir = './bidirection/CMeIE-V2'\n",
    "out_dir = os.path.join(out_dir,out_name)\n",
    "if not os.path.exists(out_dir):\n",
    "    os.makedirs(out_dir)\n",
    "with open(os.path.join(read_dir,'53_schemas.json'),'r') as f:\n",
    "    trip_types_list = json.load(f)"
   ]
  },
  {
   "cell_type": "code",
   "execution_count": 16,
   "metadata": {},
   "outputs": [],
   "source": [
    "trip_types = sorted(set([data['predicate'] for data in trip_types_list]))"
   ]
  },
  {
   "cell_type": "code",
   "execution_count": 17,
   "metadata": {},
   "outputs": [
    {
     "name": "stdout",
     "output_type": "stream",
     "text": [
      "out_name:sc_to_tr_withtype\n",
      "cost:2.54秒\n"
     ]
    }
   ],
   "source": [
    "start = time.time()\n",
    "print('out_name:{}'.format(out_name))\n",
    "for data_file,out_file in zip(data_file_list,out_file_list):\n",
    "    read_path = os.path.join(read_dir,data_file)\n",
    "    out_path = os.path.join(out_dir,out_file)\n",
    "    with jsonlines.open(read_path,'r') as f:\n",
    "        datas = [data for data in f]\n",
    "    with jsonlines.open(out_path,'w') as fw:\n",
    "        for data in datas:\n",
    "            spo_def_list = defaultdict(list)\n",
    "            for spo_item in data['spo_list']:\n",
    "                subject = spo_item['subject']\n",
    "                subject_type = spo_item['subject_type']\n",
    "                predicate = spo_item['predicate']\n",
    "                obj = spo_item['object']['@value']\n",
    "                obj_type = spo_item['object_type']['@value']\n",
    "                spo_def_list[(subject,subject_type)].append((obj,obj_type,predicate))\n",
    "            for sub,sub_type in spo_def_list.keys():\n",
    "                inp = inp_prompt.format(relation_list='，'.join(trip_types),entity_list = '，'.join(ent_types),text=data['text'],subject=sub,subject_type = sub_type)\n",
    "                spo_list = spo_def_list[(sub,sub_type)]\n",
    "                oup = '\\n'.join(['（{}||{}||{}）'.format(item[0],item[1],item[2]) for item in spo_list])\n",
    "                oup = '```\\n' + oup.strip() + '\\n```'\n",
    "                out_data = {\n",
    "                    'instruction':inp,\n",
    "                    'input':'',\n",
    "                    'output':oup,\n",
    "                    'text':data['text'],\n",
    "                    'spo_list':data['spo_list']\n",
    "                }\n",
    "                fw.write(out_data)\n",
    "end = time.time()\n",
    "print('cost:{}秒'.format(round(end-start, 2)))"
   ]
  },
  {
   "cell_type": "code",
   "execution_count": 18,
   "metadata": {},
   "outputs": [],
   "source": [
    "# CMeIE\n",
    "# D. t[s1]c→(h,r). \n",
    "out_name = 'sc_to_hr_withtype'\n",
    "inp_prompt = '''当前你是一个资深的信息提取的专家。\n",
    "你的任务是从给定文本、客体和客体类型，先抽取可能存在的主体，并基于主体从给定实体列表中提取可能的实体类型。给定的实体类型列表：{entity_list}。\n",
    "然后基于主客实体对及其对应的实体类型从给定关系列表中提取可能的关系。给定的关系列表{relation_list}。\n",
    "任务的输出形式是（主体||实体类型||关系类型）。\n",
    "给定文本：“文本：{text}；客体：{object}；客体类型：{object_type}”\n",
    "'''\n",
    "oup_prompt = '{answer_text}'"
   ]
  },
  {
   "cell_type": "code",
   "execution_count": 19,
   "metadata": {},
   "outputs": [],
   "source": [
    "data_file_list = [\n",
    "    'CMeIE-V2_train.jsonl',\n",
    "    'CMeIE-V2_dev.jsonl',\n",
    "    'CMeIE-V2_test.jsonl',\n",
    "]\n",
    "out_file_list = [\n",
    "    'train.json',\n",
    "    'dev.json',\n",
    "    'test.json'\n",
    "]"
   ]
  },
  {
   "cell_type": "code",
   "execution_count": 20,
   "metadata": {},
   "outputs": [],
   "source": [
    "read_dir = './ori/CMeIE-V2/'\n",
    "out_dir = './bidirection/CMeIE-V2'\n",
    "out_dir = os.path.join(out_dir,out_name)\n",
    "if not os.path.exists(out_dir):\n",
    "    os.makedirs(out_dir)\n",
    "with open(os.path.join(read_dir,'53_schemas.json'),'r') as f:\n",
    "    trip_types_list = json.load(f)"
   ]
  },
  {
   "cell_type": "code",
   "execution_count": 21,
   "metadata": {},
   "outputs": [],
   "source": [
    "trip_types = sorted(set([data['predicate'] for data in trip_types_list]))"
   ]
  },
  {
   "cell_type": "code",
   "execution_count": 22,
   "metadata": {},
   "outputs": [
    {
     "name": "stdout",
     "output_type": "stream",
     "text": [
      "out_name:sc_to_hr_withtype\n",
      "cost:3.16秒\n"
     ]
    }
   ],
   "source": [
    "start = time.time()\n",
    "print('out_name:{}'.format(out_name))\n",
    "for data_file,out_file in zip(data_file_list,out_file_list):\n",
    "    read_path = os.path.join(read_dir,data_file)\n",
    "    out_path = os.path.join(out_dir,out_file)\n",
    "    with jsonlines.open(read_path,'r') as f:\n",
    "        datas = [data for data in f]\n",
    "    with jsonlines.open(out_path,'w') as fw:\n",
    "        for data in datas:\n",
    "            spo_def_list = defaultdict(list)\n",
    "            for spo_item in data['spo_list']:\n",
    "                subject = spo_item['subject']\n",
    "                subject_type = spo_item['subject_type']\n",
    "                predicate = spo_item['predicate']\n",
    "                obj = spo_item['object']['@value']\n",
    "                obj_type = spo_item['object_type']['@value']\n",
    "                spo_def_list[(obj,obj_type)].append((subject,subject_type,predicate))\n",
    "            for obj,obj_type in spo_def_list.keys():\n",
    "                inp = inp_prompt.format(relation_list='，'.join(trip_types),entity_list = '，'.join(ent_types),text=data['text'],object=obj,object_type = obj_type)\n",
    "                spo_list = spo_def_list[(obj,obj_type)]\n",
    "                oup = '\\n'.join(['（{}||{}||{}）'.format(item[0],item[1],item[2]) for item in spo_list])\n",
    "                oup = '```\\n' + oup.strip() + '\\n```'\n",
    "                out_data = {\n",
    "                    'instruction':inp,\n",
    "                    'input':'',\n",
    "                    'output':oup,\n",
    "                    'text':data['text'],\n",
    "                    'spo_list':data['spo_list']\n",
    "                }\n",
    "                fw.write(out_data)\n",
    "end = time.time()\n",
    "print('cost:{}秒'.format(round(end-start, 2)))"
   ]
  },
  {
   "cell_type": "code",
   "execution_count": 23,
   "metadata": {},
   "outputs": [],
   "source": [
    "# CMeIE\n",
    "# A0. c→(h,r,t)\n",
    "out_name = 'c_to_hrt_withtype'\n",
    "inp_prompt = '''当前你是一个资深的信息提取的专家。\n",
    "你的任务是从给定文本中，抽取关系三元组。先从给定文本中抽取主客体实体对，并基于主客体实体对从给定实体列表中提取主客体的实体类型。给定的实体类型列表：{entity_list}。\n",
    "然后基于主客实体对及其对应的实体类型从给定关系列表中提取可能的关系。给定的关系列表：{relation_list}。\n",
    "任务的输出形式是（主体||主体类型||关系类型||客体||客体类型）。\n",
    "给定文本：“{text}”\n",
    "'''\n",
    "oup_prompt = '{answer_text}'"
   ]
  },
  {
   "cell_type": "code",
   "execution_count": 24,
   "metadata": {},
   "outputs": [],
   "source": [
    "data_file_list = [\n",
    "    'CMeIE-V2_train.jsonl',\n",
    "    'CMeIE-V2_dev.jsonl',\n",
    "    'CMeIE-V2_test.jsonl',\n",
    "]\n",
    "out_file_list = [\n",
    "    'train.json',\n",
    "    'dev.json',\n",
    "    'test.json'\n",
    "]"
   ]
  },
  {
   "cell_type": "code",
   "execution_count": 25,
   "metadata": {},
   "outputs": [],
   "source": [
    "read_dir = './ori/CMeIE-V2/'\n",
    "out_dir = './bidirection/CMeIE-V2'\n",
    "out_dir = os.path.join(out_dir,out_name)\n",
    "if not os.path.exists(out_dir):\n",
    "    os.makedirs(out_dir)\n",
    "with open(os.path.join(read_dir,'53_schemas.json'),'r') as f:\n",
    "    trip_types_list = json.load(f)"
   ]
  },
  {
   "cell_type": "code",
   "execution_count": 26,
   "metadata": {},
   "outputs": [],
   "source": [
    "trip_types = sorted(set([data['predicate'] for data in trip_types_list]))"
   ]
  },
  {
   "cell_type": "code",
   "execution_count": 27,
   "metadata": {},
   "outputs": [
    {
     "name": "stdout",
     "output_type": "stream",
     "text": [
      "out_name:c_to_hrt_withtype\n",
      "cost:1.7秒\n"
     ]
    }
   ],
   "source": [
    "start = time.time()\n",
    "print('out_name:{}'.format(out_name))\n",
    "for data_file,out_file in zip(data_file_list,out_file_list):\n",
    "    read_path = os.path.join(read_dir,data_file)\n",
    "    out_path = os.path.join(out_dir,out_file)\n",
    "    with jsonlines.open(read_path,'r') as f:\n",
    "        datas = [data for data in f]\n",
    "    with jsonlines.open(out_path,'w') as fw:\n",
    "        for data in datas:\n",
    "            inp = inp_prompt.format(relation_list='，'.join(trip_types),entity_list = '，'.join(ent_types),text=data['text'])\n",
    "            spo_list = [(item['subject'],item['subject_type'],item['predicate'],item['object']['@value'],item['object_type']['@value']) for item in data['spo_list']]\n",
    "            processed_spo_list = []\n",
    "            for spo_item in spo_list:\n",
    "                if spo_item not in processed_spo_list:\n",
    "                    processed_spo_list.append(spo_item)\n",
    "            oup = '\\n'.join(['（{}||{}||{}||{}||{}）'.format(item[0],item[1],item[2],item[3],item[4]) for item in processed_spo_list])\n",
    "            oup = '```\\n' + oup.strip() + '\\n```'\n",
    "            out_data = {\n",
    "                'instruction':inp,\n",
    "                'input':'',\n",
    "                'output':oup,\n",
    "                'text':data['text'],\n",
    "                'spo_list':data['spo_list']\n",
    "            }\n",
    "            fw.write(out_data)\n",
    "end = time.time()\n",
    "print('cost:{}秒'.format(round(end-start, 2)))"
   ]
  },
  {
   "cell_type": "code",
   "execution_count": 28,
   "metadata": {},
   "outputs": [
    {
     "data": {
      "text/plain": [
       "24.777007341384888"
      ]
     },
     "execution_count": 28,
     "metadata": {},
     "output_type": "execute_result"
    }
   ],
   "source": [
    "all_end = time.time()\n",
    "all_end - all_start"
   ]
  }
 ],
 "metadata": {
  "kernelspec": {
   "display_name": "llama_factory",
   "language": "python",
   "name": "python3"
  },
  "language_info": {
   "codemirror_mode": {
    "name": "ipython",
    "version": 3
   },
   "file_extension": ".py",
   "mimetype": "text/x-python",
   "name": "python",
   "nbconvert_exporter": "python",
   "pygments_lexer": "ipython3",
   "version": "3.10.13"
  },
  "orig_nbformat": 4
 },
 "nbformat": 4,
 "nbformat_minor": 2
}
