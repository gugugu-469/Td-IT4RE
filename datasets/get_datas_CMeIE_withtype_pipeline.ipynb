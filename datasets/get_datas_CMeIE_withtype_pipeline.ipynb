{
 "cells": [
  {
   "cell_type": "code",
   "execution_count": 1,
   "metadata": {},
   "outputs": [],
   "source": [
    "import os\n",
    "import json\n",
    "import jsonlines\n",
    "from collections import defaultdict\n",
    "import time"
   ]
  },
  {
   "cell_type": "code",
   "execution_count": 2,
   "metadata": {},
   "outputs": [],
   "source": [
    "all_start = time.time()"
   ]
  },
  {
   "cell_type": "code",
   "execution_count": 3,
   "metadata": {},
   "outputs": [],
   "source": [
    "# CMeIE\n",
    "# A. c→(h,t)\n",
    "out_name = 'c_to_ht_withtype'\n",
    "inp_prompt = '''当前你是一个资深的信息提取的专家。\n",
    "你的任务是从给定文本中，抽取所有可能的主客体实体对。先抽取可能存在的主体跨度，再基于抽取的主体跨度和给定文本继续抽取对应的客体跨度。并分别基于主/客体从给定实体列表中提取主/客体的实体类型。\n",
    "给定的实体类型列表：{entity_list}。\n",
    "任务的输出形式是（主体||主体类型||客体||客体类型）。\n",
    "给定文本：“{text}”\n",
    "'''\n",
    "oup_prompt = '{answer_text}'"
   ]
  },
  {
   "cell_type": "code",
   "execution_count": 4,
   "metadata": {},
   "outputs": [],
   "source": [
    "data_file_list = [\n",
    "    'CMeIE-V2_train.jsonl',\n",
    "    'CMeIE-V2_dev.jsonl',\n",
    "    'CMeIE-V2_test.jsonl',\n",
    "]\n",
    "out_file_list = [\n",
    "    'train.json',\n",
    "    'dev.json',\n",
    "    'test.json'\n",
    "]"
   ]
  },
  {
   "cell_type": "code",
   "execution_count": 5,
   "metadata": {},
   "outputs": [],
   "source": [
    "read_dir = './ori/CMeIE-V2/'\n",
    "out_dir = './pipeline/CMeIE-V2'\n",
    "out_dir = os.path.join(out_dir,out_name)\n",
    "if not os.path.exists(out_dir):\n",
    "    os.makedirs(out_dir)\n",
    "with open(os.path.join(read_dir,'53_schemas.json'),'r') as f:\n",
    "    trip_types_list = json.load(f)"
   ]
  },
  {
   "cell_type": "code",
   "execution_count": 6,
   "metadata": {},
   "outputs": [],
   "source": [
    "trip_types = sorted(set([data['predicate'] for data in trip_types_list]))\n",
    "ent_type_list = []\n",
    "for data in trip_types_list:\n",
    "    ent_type_list.append(data['subject_type'])\n",
    "    ent_type_list.append(data['object_type'])\n",
    "ent_types = sorted(set(ent_type_list),reverse=True)"
   ]
  },
  {
   "cell_type": "code",
   "execution_count": 7,
   "metadata": {},
   "outputs": [
    {
     "name": "stdout",
     "output_type": "stream",
     "text": [
      "out_name:c_to_ht_withtype\n",
      "cost:1.29秒\n"
     ]
    }
   ],
   "source": [
    "start = time.time()\n",
    "print('out_name:{}'.format(out_name))\n",
    "for data_file,out_file in zip(data_file_list,out_file_list):\n",
    "    read_path = os.path.join(read_dir,data_file)\n",
    "    out_path = os.path.join(out_dir,out_file)\n",
    "    with jsonlines.open(read_path,'r') as f:\n",
    "        datas = [data for data in f]\n",
    "    with jsonlines.open(out_path,'w') as fw:\n",
    "        for data in datas:\n",
    "            inp = inp_prompt.format(relation_list='，'.join(trip_types),entity_list = '，'.join(ent_types),text=data['text'])\n",
    "            spo_list = [(item['subject'],item['subject_type'],item['object']['@value'], item['object_type']['@value']) for item in data['spo_list']]\n",
    "            processed_spo_list = []\n",
    "            for spo_item in spo_list:\n",
    "                if spo_item not in processed_spo_list:\n",
    "                    processed_spo_list.append(spo_item)\n",
    "            oup = '\\n'.join(['（{}||{}||{}||{}）'.format(item[0],item[1],item[2], item[3]) for item in processed_spo_list])\n",
    "            oup = '```\\n' + oup.strip() + '\\n```'\n",
    "            out_data = {\n",
    "                'instruction':inp,\n",
    "                'input':'',\n",
    "                'output':oup,\n",
    "                'text':data['text'],\n",
    "                'spo_list':data['spo_list']\n",
    "            }\n",
    "            fw.write(out_data)\n",
    "end = time.time()\n",
    "print('cost:{}秒'.format(round(end-start, 2)))"
   ]
  },
  {
   "cell_type": "code",
   "execution_count": 8,
   "metadata": {},
   "outputs": [],
   "source": [
    "# CMeIE\n",
    "# A. c→(r)\n",
    "out_name = 'c_to_r_withtype'\n",
    "inp_prompt = '''当前你是一个资深的关系分类专家。\n",
    "你的任务是基于给定文本，从给定关系列表中确定可能的关系。给定的关系列表：{relation_list}。\n",
    "任务的输出形式是（关系类型）。\n",
    "给定文本：“{text}”\n",
    "'''\n",
    "oup_prompt = '{answer_text}'"
   ]
  },
  {
   "cell_type": "code",
   "execution_count": 9,
   "metadata": {},
   "outputs": [],
   "source": [
    "data_file_list = [\n",
    "    'CMeIE-V2_train.jsonl',\n",
    "    'CMeIE-V2_dev.jsonl',\n",
    "    'CMeIE-V2_test.jsonl',\n",
    "]\n",
    "out_file_list = [\n",
    "    'train.json',\n",
    "    'dev.json',\n",
    "    'test.json'\n",
    "]"
   ]
  },
  {
   "cell_type": "code",
   "execution_count": 10,
   "metadata": {},
   "outputs": [],
   "source": [
    "read_dir = './ori/CMeIE-V2/'\n",
    "out_dir = './pipeline/CMeIE-V2'\n",
    "out_dir = os.path.join(out_dir,out_name)\n",
    "if not os.path.exists(out_dir):\n",
    "    os.makedirs(out_dir)\n",
    "with open(os.path.join(read_dir,'53_schemas.json'),'r') as f:\n",
    "    trip_types_list = json.load(f)"
   ]
  },
  {
   "cell_type": "code",
   "execution_count": 11,
   "metadata": {},
   "outputs": [],
   "source": [
    "trip_types = sorted(set([data['predicate'] for data in trip_types_list]))\n",
    "ent_type_list = []\n",
    "for data in trip_types_list:\n",
    "    ent_type_list.append(data['subject_type'])\n",
    "    ent_type_list.append(data['object_type'])\n",
    "ent_types = sorted(set(ent_type_list),reverse=True)"
   ]
  },
  {
   "cell_type": "code",
   "execution_count": 12,
   "metadata": {},
   "outputs": [
    {
     "name": "stdout",
     "output_type": "stream",
     "text": [
      "out_name:c_to_r_withtype\n",
      "cost:1.9秒\n"
     ]
    }
   ],
   "source": [
    "start = time.time()\n",
    "print('out_name:{}'.format(out_name))\n",
    "for data_file,out_file in zip(data_file_list,out_file_list):\n",
    "    read_path = os.path.join(read_dir,data_file)\n",
    "    out_path = os.path.join(out_dir,out_file)\n",
    "    with jsonlines.open(read_path,'r') as f:\n",
    "        datas = [data for data in f]\n",
    "    with jsonlines.open(out_path,'w') as fw:\n",
    "        for data in datas:\n",
    "            inp = inp_prompt.format(relation_list='，'.join(trip_types),entity_list = '，'.join(ent_types),text=data['text'])\n",
    "            spo_list = []\n",
    "            for item in data['spo_list']:\n",
    "                if item['predicate'] not in spo_list:\n",
    "                    spo_list.append(item['predicate'])\n",
    "            processed_spo_list = []\n",
    "            for spo_item in spo_list:\n",
    "                if spo_item not in processed_spo_list:\n",
    "                    processed_spo_list.append(spo_item)\n",
    "            oup = '\\n'.join(['（{}）'.format(item) for item in processed_spo_list])\n",
    "            oup = '```\\n' + oup.strip() + '\\n```'\n",
    "            out_data = {\n",
    "                'instruction':inp,\n",
    "                'input':'',\n",
    "                'output':oup,\n",
    "                'text':data['text'],\n",
    "                'spo_list':data['spo_list']\n",
    "            }\n",
    "            fw.write(out_data)\n",
    "end = time.time()\n",
    "print('cost:{}秒'.format(round(end-start, 2)))"
   ]
  },
  {
   "cell_type": "code",
   "execution_count": 13,
   "metadata": {},
   "outputs": [],
   "source": [
    "# CMeIE\n",
    "# B.  r[s1] c→(h,t)\n",
    "out_name = 'rc_to_ht_withtype'\n",
    "inp_prompt = '''当前你是一个资深的信息提取的专家。\n",
    "你的任务是从给定文本和关系类型，抽取所有可能的主客体实体对。先抽取可能存在的主体跨度，再基于抽取的主体跨度和给定文本继续抽取对应的客体跨度。并分别基于主/客体从给定实体列表中提取主/客体的实体类型。\n",
    "给定的实体类型列表：{entity_list}。\n",
    "任务的输出形式是（主体||主体类型||客体||客体类型）。\n",
    "给定文本：“{text}”\n",
    "给定关系类型：“{relation}”\n",
    "'''\n",
    "oup_prompt = '{answer_text}'"
   ]
  },
  {
   "cell_type": "code",
   "execution_count": 14,
   "metadata": {},
   "outputs": [],
   "source": [
    "data_file_list = [\n",
    "    'CMeIE-V2_train.jsonl',\n",
    "    'CMeIE-V2_dev.jsonl',\n",
    "    'CMeIE-V2_test.jsonl',\n",
    "]\n",
    "out_file_list = [\n",
    "    'train.json',\n",
    "    'dev.json',\n",
    "    'test.json'\n",
    "]"
   ]
  },
  {
   "cell_type": "code",
   "execution_count": 15,
   "metadata": {},
   "outputs": [],
   "source": [
    "read_dir = './ori/CMeIE-V2/'\n",
    "out_dir = './pipeline/CMeIE-V2'\n",
    "out_dir = os.path.join(out_dir,out_name)\n",
    "if not os.path.exists(out_dir):\n",
    "    os.makedirs(out_dir)\n",
    "with open(os.path.join(read_dir,'53_schemas.json'),'r') as f:\n",
    "    trip_types_list = json.load(f)"
   ]
  },
  {
   "cell_type": "code",
   "execution_count": 16,
   "metadata": {},
   "outputs": [],
   "source": [
    "trip_types = sorted(set([data['predicate'] for data in trip_types_list]))"
   ]
  },
  {
   "cell_type": "code",
   "execution_count": 17,
   "metadata": {},
   "outputs": [
    {
     "name": "stdout",
     "output_type": "stream",
     "text": [
      "out_name:rc_to_ht_withtype\n",
      "cost:2.73秒\n"
     ]
    }
   ],
   "source": [
    "start = time.time()\n",
    "print('out_name:{}'.format(out_name))\n",
    "for data_file,out_file in zip(data_file_list,out_file_list):\n",
    "    read_path = os.path.join(read_dir,data_file)\n",
    "    out_path = os.path.join(out_dir,out_file)\n",
    "    with jsonlines.open(read_path,'r') as f:\n",
    "        datas = [data for data in f]\n",
    "    with jsonlines.open(out_path,'w') as fw:\n",
    "        for data in datas:\n",
    "            relation_to_ht = defaultdict(list)\n",
    "            for spo_item in data['spo_list']:\n",
    "                sub = spo_item['subject']\n",
    "                sub_type = spo_item['subject_type']\n",
    "                predicate = spo_item['predicate']\n",
    "                obj = spo_item['object']['@value']\n",
    "                obj_type = spo_item['object_type']['@value']\n",
    "                relation_to_ht[predicate].append((sub, sub_type, obj, obj_type))\n",
    "            for predicate in relation_to_ht.keys():\n",
    "                spo_list = relation_to_ht[predicate]\n",
    "                inp = inp_prompt.format(relation_list='，'.join(trip_types),entity_list = '，'.join(ent_types),text=data['text'], relation = predicate)\n",
    "                oup = '\\n'.join(['（{}||{}||{}||{}）'.format(item[0],item[1],item[2], item[3]) for item in spo_list])\n",
    "                oup = '```\\n' + oup.strip() + '\\n```'\n",
    "                out_data = {\n",
    "                    'instruction':inp,\n",
    "                    'input':'',\n",
    "                    'output':oup,\n",
    "                    'text':data['text'],\n",
    "                    'spo_list':data['spo_list']\n",
    "                }\n",
    "                fw.write(out_data)\n",
    "end = time.time()\n",
    "print('cost:{}秒'.format(round(end-start, 2)))"
   ]
  },
  {
   "cell_type": "code",
   "execution_count": 18,
   "metadata": {},
   "outputs": [],
   "source": [
    "# CMeIE\n",
    "# C. h[s1]t [s2]c→r\n",
    "out_name = 'htc_to_r_withtype'\n",
    "inp_prompt = '''当前你是一个资深的关系分类专家。\n",
    "你的任务是基于给定文本和主客体实体对以及他们的类型，从给定关系列表中确定可能的关系。\n",
    "给定的关系列表：{relation_list}。\n",
    "任务输入的实体对格式是（主体||主体类型||客体||客体类型）。\n",
    "任务的输出形式是（关系类型）。\n",
    "给定文本：“{text}”\n",
    "给定主客体实体对：“{head_tail}”\n",
    "'''\n",
    "oup_prompt = '{answer_text}'"
   ]
  },
  {
   "cell_type": "code",
   "execution_count": 19,
   "metadata": {},
   "outputs": [],
   "source": [
    "data_file_list = [\n",
    "    'CMeIE-V2_train.jsonl',\n",
    "    'CMeIE-V2_dev.jsonl',\n",
    "    'CMeIE-V2_test.jsonl',\n",
    "]\n",
    "out_file_list = [\n",
    "    'train.json',\n",
    "    'dev.json',\n",
    "    'test.json'\n",
    "]"
   ]
  },
  {
   "cell_type": "code",
   "execution_count": 20,
   "metadata": {},
   "outputs": [],
   "source": [
    "read_dir = './ori/CMeIE-V2/'\n",
    "out_dir = './pipeline/CMeIE-V2'\n",
    "out_dir = os.path.join(out_dir,out_name)\n",
    "if not os.path.exists(out_dir):\n",
    "    os.makedirs(out_dir)\n",
    "with open(os.path.join(read_dir,'53_schemas.json'),'r') as f:\n",
    "    trip_types_list = json.load(f)"
   ]
  },
  {
   "cell_type": "code",
   "execution_count": 21,
   "metadata": {},
   "outputs": [],
   "source": [
    "trip_types = sorted(set([data['predicate'] for data in trip_types_list]))"
   ]
  },
  {
   "cell_type": "code",
   "execution_count": 22,
   "metadata": {},
   "outputs": [
    {
     "name": "stdout",
     "output_type": "stream",
     "text": [
      "out_name:htc_to_r_withtype\n",
      "cost:6.17秒\n"
     ]
    }
   ],
   "source": [
    "start = time.time()\n",
    "print('out_name:{}'.format(out_name))\n",
    "for data_file,out_file in zip(data_file_list,out_file_list):\n",
    "    read_path = os.path.join(read_dir,data_file)\n",
    "    out_path = os.path.join(out_dir,out_file)\n",
    "    with jsonlines.open(read_path,'r') as f:\n",
    "        datas = [data for data in f]\n",
    "    with jsonlines.open(out_path,'w') as fw:\n",
    "        for data in datas:\n",
    "            ht_to_relation = defaultdict(list)\n",
    "            for spo_item in data['spo_list']:\n",
    "                sub = spo_item['subject']\n",
    "                sub_type = spo_item['subject_type']\n",
    "                predicate = spo_item['predicate']\n",
    "                obj = spo_item['object']['@value']\n",
    "                obj_type = spo_item['object_type']['@value']\n",
    "                ht_item = (sub, sub_type, obj, obj_type)\n",
    "                ht_to_relation[ht_item].append(predicate)\n",
    "            for ht_item in ht_to_relation.keys():\n",
    "                predicate = ht_to_relation[ht_item]\n",
    "                ht_item_str = '（{}||{}||{}||{}）'.format(ht_item[0], ht_item[1], ht_item[2], ht_item[3])\n",
    "                inp = inp_prompt.format(relation_list='，'.join(trip_types),text=data['text'], head_tail = ht_item_str)\n",
    "                oup = '\\n'.join(['（{}）'.format(item) for item in predicate])\n",
    "                oup = '```\\n' + oup.strip() + '\\n```'\n",
    "                out_data = {\n",
    "                    'instruction':inp,\n",
    "                    'input':'',\n",
    "                    'output':oup,\n",
    "                    'text':data['text'],\n",
    "                    'spo_list':data['spo_list']\n",
    "                }\n",
    "                fw.write(out_data)\n",
    "end = time.time()\n",
    "print('cost:{}秒'.format(round(end-start, 2)))"
   ]
  },
  {
   "cell_type": "code",
   "execution_count": 23,
   "metadata": {},
   "outputs": [],
   "source": [
    "# CMeIE\n",
    "# A0. c→(h,r,t)\n",
    "out_name = 'c_to_hrt_withtype'\n",
    "inp_prompt = '''当前你是一个资深的信息提取的专家。\n",
    "你的任务是从给定文本中，抽取关系三元组。先从给定文本中抽取主客体实体对，并基于主客体实体对从给定实体列表中提取主客体的实体类型。给定的实体类型列表：{entity_list}。\n",
    "然后基于主客实体对及其对应的实体类型从给定关系列表中提取可能的关系。给定的关系列表：{relation_list}。\n",
    "任务的输出形式是（主体||主体类型||关系类型||客体||客体类型）。\n",
    "给定文本：“{text}”\n",
    "'''\n",
    "oup_prompt = '{answer_text}'"
   ]
  },
  {
   "cell_type": "code",
   "execution_count": 24,
   "metadata": {},
   "outputs": [],
   "source": [
    "data_file_list = [\n",
    "    'CMeIE-V2_train.jsonl',\n",
    "    'CMeIE-V2_dev.jsonl',\n",
    "    'CMeIE-V2_test.jsonl',\n",
    "]\n",
    "out_file_list = [\n",
    "    'train.json',\n",
    "    'dev.json',\n",
    "    'test.json'\n",
    "]"
   ]
  },
  {
   "cell_type": "code",
   "execution_count": 25,
   "metadata": {},
   "outputs": [],
   "source": [
    "read_dir = './ori/CMeIE-V2/'\n",
    "out_dir = './pipeline/CMeIE-V2'\n",
    "out_dir = os.path.join(out_dir,out_name)\n",
    "if not os.path.exists(out_dir):\n",
    "    os.makedirs(out_dir)\n",
    "with open(os.path.join(read_dir,'53_schemas.json'),'r') as f:\n",
    "    trip_types_list = json.load(f)"
   ]
  },
  {
   "cell_type": "code",
   "execution_count": 26,
   "metadata": {},
   "outputs": [],
   "source": [
    "trip_types = sorted(set([data['predicate'] for data in trip_types_list]))"
   ]
  },
  {
   "cell_type": "code",
   "execution_count": 27,
   "metadata": {},
   "outputs": [
    {
     "name": "stdout",
     "output_type": "stream",
     "text": [
      "out_name:c_to_hrt_withtype\n",
      "cost:1.63秒\n"
     ]
    }
   ],
   "source": [
    "start = time.time()\n",
    "print('out_name:{}'.format(out_name))\n",
    "for data_file,out_file in zip(data_file_list,out_file_list):\n",
    "    read_path = os.path.join(read_dir,data_file)\n",
    "    out_path = os.path.join(out_dir,out_file)\n",
    "    with jsonlines.open(read_path,'r') as f:\n",
    "        datas = [data for data in f]\n",
    "    with jsonlines.open(out_path,'w') as fw:\n",
    "        for data in datas:\n",
    "            inp = inp_prompt.format(relation_list='，'.join(trip_types),entity_list = '，'.join(ent_types),text=data['text'])\n",
    "            spo_list = [(item['subject'],item['subject_type'],item['predicate'],item['object']['@value'],item['object_type']['@value']) for item in data['spo_list']]\n",
    "            processed_spo_list = []\n",
    "            for spo_item in spo_list:\n",
    "                if spo_item not in processed_spo_list:\n",
    "                    processed_spo_list.append(spo_item)\n",
    "            oup = '\\n'.join(['（{}||{}||{}||{}||{}）'.format(item[0],item[1],item[2],item[3],item[4]) for item in processed_spo_list])\n",
    "            oup = '```\\n' + oup.strip() + '\\n```'\n",
    "            out_data = {\n",
    "                'instruction':inp,\n",
    "                'input':'',\n",
    "                'output':oup,\n",
    "                'text':data['text'],\n",
    "                'spo_list':data['spo_list']\n",
    "            }\n",
    "            fw.write(out_data)\n",
    "end = time.time()\n",
    "print('cost:{}秒'.format(round(end-start, 2)))"
   ]
  },
  {
   "cell_type": "code",
   "execution_count": 28,
   "metadata": {},
   "outputs": [
    {
     "data": {
      "text/plain": [
       "27.102506160736084"
      ]
     },
     "execution_count": 28,
     "metadata": {},
     "output_type": "execute_result"
    }
   ],
   "source": [
    "all_end = time.time()\n",
    "all_end-all_start"
   ]
  }
 ],
 "metadata": {
  "kernelspec": {
   "display_name": "llama_factory",
   "language": "python",
   "name": "python3"
  },
  "language_info": {
   "codemirror_mode": {
    "name": "ipython",
    "version": 3
   },
   "file_extension": ".py",
   "mimetype": "text/x-python",
   "name": "python",
   "nbconvert_exporter": "python",
   "pygments_lexer": "ipython3",
   "version": "3.10.13"
  },
  "orig_nbformat": 4
 },
 "nbformat": 4,
 "nbformat_minor": 2
}
